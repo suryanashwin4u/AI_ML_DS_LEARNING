{
 "cells": [
  {
   "cell_type": "code",
   "execution_count": 4,
   "metadata": {},
   "outputs": [
    {
     "name": "stdout",
     "output_type": "stream",
     "text": [
      "helloworld\n",
      "helloworld\n",
      "hello\"my\"world\n",
      "hello'my'world\n"
     ]
    }
   ],
   "source": [
    "print(\"helloworld\")\n",
    "print('helloworld')\n",
    "print('hello\"my\"world')\n",
    "print(\"hello'my'world\")"
   ]
  },
  {
   "cell_type": "code",
   "execution_count": 5,
   "metadata": {},
   "outputs": [
    {
     "name": "stdout",
     "output_type": "stream",
     "text": [
      "hello\"my\"world\n",
      "hello'my'world\n"
     ]
    }
   ],
   "source": [
    "print(\"hello\\\"my\\\"world\")\n",
    "print('hello\\'my\\'world')"
   ]
  },
  {
   "cell_type": "code",
   "execution_count": 6,
   "metadata": {},
   "outputs": [
    {
     "name": "stdout",
     "output_type": "stream",
     "text": [
      "line A \n",
      " line B \n",
      " line C\n",
      "line A \t line B \t line C\n"
     ]
    }
   ],
   "source": [
    "print('line A \\n line B \\n line C')\n",
    "print('line A \\t line B \\t line C')"
   ]
  },
  {
   "cell_type": "code",
   "execution_count": 7,
   "metadata": {},
   "outputs": [
    {
     "name": "stdout",
     "output_type": "stream",
     "text": [
      "line A \\ backslash\n",
      "line A /\\/\\/\\/\\/\\ backslash\n",
      "line A \\ backslash\\ double \\\\\n"
     ]
    }
   ],
   "source": [
    "print('line A \\ backslash')\n",
    "print('line A /\\\\/\\\\/\\\\/\\\\/\\\\ backslash')\n",
    "print('line A \\ backslash\\\\ double \\\\\\\\')"
   ]
  },
  {
   "cell_type": "code",
   "execution_count": 8,
   "metadata": {},
   "outputs": [
    {
     "name": "stdout",
     "output_type": "stream",
     "text": [
      "helll\bo\n",
      "line A \\n line B \\n line C\\t\n",
      "line A \\' \\\" backslash\n",
      "line A \\' \\n \\t \\\" backslash\n",
      "line A \\\\\\' \\\\n \\\\t \\\\\\\" backslash\n"
     ]
    }
   ],
   "source": [
    "print('helll\\bo')\n",
    "print('line A \\\\n line B \\\\n line C\\\\t')\n",
    "print('line A \\\\\\' \\\\\\\" backslash')\n",
    "print('line A \\\\\\' \\\\n \\\\t \\\\\\\" backslash')\n",
    "print(r'line A \\\\\\' \\\\n \\\\t \\\\\\\" backslash')"
   ]
  },
  {
   "cell_type": "code",
   "execution_count": 9,
   "metadata": {},
   "outputs": [
    {
     "name": "stdout",
     "output_type": "stream",
     "text": [
      "😂\n",
      "😄\n",
      "😘\n"
     ]
    }
   ],
   "source": [
    "print(\"\\U0001F602\")\n",
    "print(\"\\U0001F604\")\n",
    "print(\"\\U0001F618\")\n"
   ]
  },
  {
   "cell_type": "code",
   "execution_count": 10,
   "metadata": {},
   "outputs": [
    {
     "name": "stdout",
     "output_type": "stream",
     "text": [
      "0.5\n",
      "0\n",
      "1\n"
     ]
    }
   ],
   "source": [
    "print(2/4)  #float division\n",
    "print(2//4) #integer division\n",
    "print(5//4) #integer division"
   ]
  },
  {
   "cell_type": "code",
   "execution_count": 11,
   "metadata": {},
   "outputs": [
    {
     "name": "stdout",
     "output_type": "stream",
     "text": [
      "16\n",
      "1.4142135623730951\n",
      "65536\n"
     ]
    }
   ],
   "source": [
    "print(2**4)\n",
    "print(2**0.5)\n",
    "print(2**4**2)\n",
    "\n"
   ]
  },
  {
   "cell_type": "code",
   "execution_count": 13,
   "metadata": {},
   "outputs": [
    {
     "name": "stdout",
     "output_type": "stream",
     "text": [
      "1.41421\n"
     ]
    }
   ],
   "source": [
    "print(round(2**0.5,5))  #round off till 5 place of decimal"
   ]
  },
  {
   "cell_type": "code",
   "execution_count": 14,
   "metadata": {},
   "outputs": [
    {
     "name": "stdout",
     "output_type": "stream",
     "text": [
      "40.5\n"
     ]
    }
   ],
   "source": [
    "print(2**3+5/2*6+(25/2+5))  #bodmas rule"
   ]
  },
  {
   "cell_type": "code",
   "execution_count": 15,
   "metadata": {},
   "outputs": [
    {
     "name": "stdout",
     "output_type": "stream",
     "text": [
      "23\n"
     ]
    }
   ],
   "source": [
    "var1=23\n",
    "print(var1)\n"
   ]
  },
  {
   "cell_type": "code",
   "execution_count": 17,
   "metadata": {},
   "outputs": [
    {
     "name": "stdout",
     "output_type": "stream",
     "text": [
      "hello\n"
     ]
    }
   ],
   "source": [
    "var1=\"hello\"\n",
    "print(var1)  "
   ]
  },
  {
   "cell_type": "code",
   "execution_count": 18,
   "metadata": {},
   "outputs": [
    {
     "name": "stdout",
     "output_type": "stream",
     "text": [
      "hello\n"
     ]
    }
   ],
   "source": [
    "__var1=\"hello\"\n",
    "print(__var1)"
   ]
  },
  {
   "cell_type": "code",
   "execution_count": 20,
   "metadata": {},
   "outputs": [
    {
     "name": "stdout",
     "output_type": "stream",
     "text": [
      "hw\n"
     ]
    }
   ],
   "source": [
    "hello_world=\"hw\"    #this case used in python (snake case)\n",
    "print(hello_world) "
   ]
  },
  {
   "cell_type": "code",
   "execution_count": 21,
   "metadata": {},
   "outputs": [
    {
     "name": "stdout",
     "output_type": "stream",
     "text": [
      "hw\n"
     ]
    }
   ],
   "source": [
    "helloWorld=\"hw\"     #this case used in java(camel case)\n",
    "print(helloWorld)"
   ]
  },
  {
   "cell_type": "code",
   "execution_count": 22,
   "metadata": {},
   "outputs": [
    {
     "name": "stdout",
     "output_type": "stream",
     "text": [
      "line A\n",
      "line B\n",
      "line A\n",
      "line B\n"
     ]
    }
   ],
   "source": [
    "print(\"line A\")\n",
    "print(\"line B\")\n",
    "print(\"line A\\nline B\")\n"
   ]
  },
  {
   "cell_type": "code",
   "execution_count": 23,
   "metadata": {},
   "outputs": [
    {
     "name": "stdout",
     "output_type": "stream",
     "text": [
      "ashwani kumar\n"
     ]
    }
   ],
   "source": [
    "fname=\"ashwani\"\n",
    "lname=\"kumar\"\n",
    "print(fname+\" \"+lname)\n"
   ]
  },
  {
   "cell_type": "code",
   "execution_count": 27,
   "metadata": {},
   "outputs": [
    {
     "name": "stdout",
     "output_type": "stream",
     "text": [
      "ashwani kumar 24\n"
     ]
    }
   ],
   "source": [
    "fname=\"ashwani\"\n",
    "lname=\"kumar\"\n",
    "age=24\n",
    "print(fname+\" \"+lname+\" \"+str(age)) #cant concatenate string with number so, convert int into string\n"
   ]
  },
  {
   "cell_type": "code",
   "execution_count": 28,
   "metadata": {},
   "outputs": [
    {
     "name": "stdout",
     "output_type": "stream",
     "text": [
      "ashwaniashwaniashwaniashwaniashwani\n"
     ]
    }
   ],
   "source": [
    "fname=\"ashwani\"\n",
    "print(fname*5)"
   ]
  },
  {
   "cell_type": "code",
   "execution_count": 29,
   "metadata": {},
   "outputs": [
    {
     "name": "stdout",
     "output_type": "stream",
     "text": [
      "enter your name : ashwani kumar\n",
      "ashwani kumarashwani kumarashwani kumarashwani kumarashwani kumar\n"
     ]
    }
   ],
   "source": [
    "myname=input(\"enter your name : \")\n",
    "print(myname * 5)\n",
    "\n"
   ]
  },
  {
   "cell_type": "code",
   "execution_count": 30,
   "metadata": {},
   "outputs": [
    {
     "name": "stdout",
     "output_type": "stream",
     "text": [
      "enter your age : 25\n",
      "my age is : 25\n",
      "30\n"
     ]
    }
   ],
   "source": [
    "myage=input(\"enter your age : \")\n",
    "print(\"my age is : \" + myage)   #input function takes everything as string\n",
    "print(int(myage)+5)             #convert string to integer\n"
   ]
  },
  {
   "cell_type": "code",
   "execution_count": 31,
   "metadata": {},
   "outputs": [
    {
     "name": "stdout",
     "output_type": "stream",
     "text": [
      "134.0\n",
      "211.0\n"
     ]
    }
   ],
   "source": [
    "n1=\"52\"\n",
    "n2=\"77\"\n",
    "n3=\"5\"\n",
    "print(float(n2)+float(n3)+float(n1))\n",
    "print(int(n2)+int(n3)+int(n1)+float(n2))\n"
   ]
  },
  {
   "cell_type": "code",
   "execution_count": 32,
   "metadata": {},
   "outputs": [
    {
     "name": "stdout",
     "output_type": "stream",
     "text": [
      "my name is :  ashwani kumar and my age is : 24\n"
     ]
    }
   ],
   "source": [
    "name, age = \"ashwani kumar\" , 24\n",
    "print(\"my name is : \"+\" \"+ name +\" \"+\"and my age is : \"+ str(age))"
   ]
  },
  {
   "cell_type": "code",
   "execution_count": 33,
   "metadata": {},
   "outputs": [
    {
     "name": "stdout",
     "output_type": "stream",
     "text": [
      "6\n"
     ]
    }
   ],
   "source": [
    "x=y=z=a=b=c=1\n",
    "print(x+y+z+a+b+c)\n"
   ]
  },
  {
   "cell_type": "code",
   "execution_count": 35,
   "metadata": {},
   "outputs": [
    {
     "name": "stdout",
     "output_type": "stream",
     "text": [
      "enter your name and age : ashwani 24\n",
      "my name is : ashwani and my age is : 24\n"
     ]
    }
   ],
   "source": [
    "name,age=input(\"enter your name and age : \").split()\n",
    "print(\"my name is : \" + name + \" and my age is : \" + age)\n"
   ]
  },
  {
   "cell_type": "code",
   "execution_count": 4,
   "metadata": {},
   "outputs": [
    {
     "name": "stdout",
     "output_type": "stream",
     "text": [
      "enter your name and age : ashwani kumar ,24\n",
      "my name is : ashwani kumar  and my age is : 24\n",
      "hello my name is : ashwani kumar  and my age is : 24\n",
      "hello my name is : ashwani kumar  and my age is : 24\n",
      "hello my name is : ashwani kumar  and my age is : 34\n"
     ]
    }
   ],
   "source": [
    "name,age=input(\"enter your name and age : \").split(\",\")\n",
    "\n",
    "print(\"my name is : \" + name + \" and my age is : \" + age)\n",
    "\n",
    "print(\"hello my name is : {} and my age is : {}\".format(name, age))\n",
    "\n",
    "print(f\"hello my name is : {name} and my age is : {age}\")\n",
    "\n",
    "print(f\"hello my name is : {name} and my age is : {int(age)+10}\")\n"
   ]
  },
  {
   "cell_type": "code",
   "execution_count": 5,
   "metadata": {},
   "outputs": [
    {
     "name": "stdout",
     "output_type": "stream",
     "text": [
      "enter 3 numbers : 12,33,44\n",
      "average of three numbers is : 29.666666666666668\n"
     ]
    }
   ],
   "source": [
    "num1,num2,num3=input(\"enter 3 numbers : \").split(\",\")\n",
    "\n",
    "avg=(int(num1)+int(num2)+int(num3))/3\n",
    "\n",
    "print(f\"average of three numbers is : {avg}\")\n"
   ]
  },
  {
   "cell_type": "code",
   "execution_count": 39,
   "metadata": {},
   "outputs": [
    {
     "name": "stdout",
     "output_type": "stream",
     "text": [
      "n \n",
      "ni\n"
     ]
    }
   ],
   "source": [
    "name=\"ashwani kumar\"\n",
    "print(name[5]+name[7])\n",
    "print(name[5]+name[-7])\n"
   ]
  },
  {
   "cell_type": "code",
   "execution_count": 40,
   "metadata": {},
   "outputs": [
    {
     "name": "stdout",
     "output_type": "stream",
     "text": [
      "ashwani ku\n",
      "ashwani ku\n",
      "ni ku\n",
      "\n",
      "ashwani kumar\n",
      "hwani kumar\n"
     ]
    }
   ],
   "source": [
    "name=\"ashwani kumar\"\n",
    "print(name[0:10])\n",
    "print(name[:10])\n",
    "print(name[5:10])\n",
    "print(name[-5:5])\n",
    "print(name[:])\n",
    "print(name[2:])"
   ]
  },
  {
   "cell_type": "code",
   "execution_count": 41,
   "metadata": {},
   "outputs": [
    {
     "name": "stdout",
     "output_type": "stream",
     "text": [
      "ani\n",
      "aha\n",
      "ahai\n",
      "iaha\n",
      "inawhsa\n"
     ]
    }
   ],
   "source": [
    "print(\"ashwani\"[4:])\n",
    "print(\"ashwani\"[0:5:2]) #step wise jump\n",
    "print(\"ashwani\"[::2]) #step wise jump\n",
    "print(\"ashwani\"[::-2]) #step wise jump\n",
    "print(\"ashwani\"[::-1]) #step wise jump and reverse a string"
   ]
  },
  {
   "cell_type": "code",
   "execution_count": 42,
   "metadata": {},
   "outputs": [
    {
     "name": "stdout",
     "output_type": "stream",
     "text": [
      "enter your name : ashwani kumar\n",
      "reverse of username is : ramuk inawhsa\n"
     ]
    }
   ],
   "source": [
    "username=input(\"enter your name : \")\n",
    "print(\"reverse of username is : \" + username[::-1])\n"
   ]
  },
  {
   "cell_type": "code",
   "execution_count": 43,
   "metadata": {},
   "outputs": [
    {
     "name": "stdout",
     "output_type": "stream",
     "text": [
      "13\n",
      "ashwani kumar\n",
      "ASHWANI KUMAR\n",
      "Ashwani Kumar\n",
      "1\n"
     ]
    }
   ],
   "source": [
    "name=\"ashwani KUMAR\"\n",
    "print(len(name))\n",
    "print(name.lower())\n",
    "print(name.upper())\n",
    "print(name.title())\n",
    "print(name.count(\"A\"))\n"
   ]
  },
  {
   "cell_type": "code",
   "execution_count": 48,
   "metadata": {},
   "outputs": [
    {
     "name": "stdout",
     "output_type": "stream",
     "text": [
      "enter username and a character : ashwani kumar,a\n",
      "13\n",
      "3\n"
     ]
    }
   ],
   "source": [
    "username,character=input(\"enter username and a character : \").split(\",\")\n",
    "print(len(username))\n",
    "print(username.strip().lower().count(character))"
   ]
  },
  {
   "cell_type": "code",
   "execution_count": 49,
   "metadata": {},
   "outputs": [
    {
     "name": "stdout",
     "output_type": "stream",
     "text": [
      "     ashwani           kumar             \n",
      "ashwani           kumar\n",
      "ashwani kumar\n"
     ]
    }
   ],
   "source": [
    "fname=\"     ashwani      \"\n",
    "lname=\"     kumar             \"\n",
    "print(fname+lname)\n",
    "print(fname.lstrip()+lname.rstrip())\n",
    "print(fname.strip()+\" \"+lname.strip())#remove space from front and back of the word"
   ]
  },
  {
   "cell_type": "code",
   "execution_count": 21,
   "metadata": {},
   "outputs": [
    {
     "name": "stdout",
     "output_type": "stream",
     "text": [
      "hellothisisashwanihereandiamcodinginpython\n",
      "hello_this_is_ashwani_here_and_i_am_coding_in_python\n",
      "hello thwas was ashwani here and i am coding in python\n",
      "hello this is ashwin here and i am coding in python\n"
     ]
    }
   ],
   "source": [
    "username=\"hello this is ashwani here and i am coding in python\"\n",
    "print(username.replace(\" \",\"\")) \n",
    "print(username.replace(\" \",\"_\"))\n",
    "print(username.replace(\"is\",\"was\"))\n",
    "print(username.replace(\"ani\",\"in\", 1))#1 is number of times it will replace"
   ]
  },
  {
   "cell_type": "code",
   "execution_count": 25,
   "metadata": {},
   "outputs": [
    {
     "name": "stdout",
     "output_type": "stream",
     "text": [
      "6\n",
      "8\n",
      "first found at : 8  and second found at : 11\n"
     ]
    }
   ],
   "source": [
    "username=\"hello this is ashwani here and i am coding in python\"\n",
    "print(username.find(\"this\"))\n",
    "print(username.find(\"i\", 5)) #use number to start finding from 5th position\n",
    "is_pos1=username.find(\"is\")\n",
    "is_pos2=username.find(\"is\", is_pos1+1)\n",
    "print(\"first found at : \"+ str(is_pos1)+\" \"+\" and second found at : \" + str(is_pos2))\n"
   ]
  },
  {
   "cell_type": "code",
   "execution_count": 34,
   "metadata": {},
   "outputs": [
    {
     "name": "stdout",
     "output_type": "stream",
     "text": [
      "@@@@@ashwani@@@@@\n"
     ]
    }
   ],
   "source": [
    "name=\"ashwani\"\n",
    "print(name.center(len(name)+10,\"@\"))\n"
   ]
  },
  {
   "cell_type": "code",
   "execution_count": 36,
   "metadata": {},
   "outputs": [
    {
     "name": "stdout",
     "output_type": "stream",
     "text": [
      "Ashwani Kumar\n"
     ]
    }
   ],
   "source": [
    "name=\"ashwani kumar\"\n",
    "print(name.title())  #this will change first character of the coming string"
   ]
  },
  {
   "cell_type": "code",
   "execution_count": 37,
   "metadata": {},
   "outputs": [
    {
     "name": "stdout",
     "output_type": "stream",
     "text": [
      "enter fname and lname : ashwani kumar\n",
      "ashwani kumar\n",
      "%%ashwani kumar%%\n"
     ]
    }
   ],
   "source": [
    "fname,lname=input(\"enter fname and lname : \").split(\" \")\n",
    "fullname=fname+\" \"+lname\n",
    "print(fullname)\n",
    "print(fullname.center(len(fullname)+4,\"%\"))"
   ]
  },
  {
   "cell_type": "code",
   "execution_count": 39,
   "metadata": {},
   "outputs": [
    {
     "ename": "TypeError",
     "evalue": "'str' object does not support item assignment",
     "output_type": "error",
     "traceback": [
      "\u001b[1;31m---------------------------------------------------------------------------\u001b[0m",
      "\u001b[1;31mTypeError\u001b[0m                                 Traceback (most recent call last)",
      "\u001b[1;32m<ipython-input-39-0d6e7104cad2>\u001b[0m in \u001b[0;36m<module>\u001b[1;34m\u001b[0m\n\u001b[0;32m      1\u001b[0m \u001b[0mname\u001b[0m\u001b[1;33m=\u001b[0m\u001b[1;34m\"ashwani kumar\"\u001b[0m\u001b[1;33m\u001b[0m\u001b[1;33m\u001b[0m\u001b[0m\n\u001b[1;32m----> 2\u001b[1;33m \u001b[0mname\u001b[0m\u001b[1;33m[\u001b[0m\u001b[1;36m2\u001b[0m\u001b[1;33m]\u001b[0m\u001b[1;33m=\u001b[0m\u001b[1;34m't'\u001b[0m \u001b[1;31m# it shows error bcz strings are immutable in nature\u001b[0m\u001b[1;33m\u001b[0m\u001b[1;33m\u001b[0m\u001b[0m\n\u001b[0m\u001b[0;32m      3\u001b[0m \u001b[0mprint\u001b[0m\u001b[1;33m(\u001b[0m\u001b[0mname\u001b[0m\u001b[1;33m)\u001b[0m\u001b[1;33m\u001b[0m\u001b[1;33m\u001b[0m\u001b[0m\n",
      "\u001b[1;31mTypeError\u001b[0m: 'str' object does not support item assignment"
     ]
    }
   ],
   "source": [
    "name=\"ashwani kumar\" \n",
    "name[2]='t' # it shows error bcz strings are immutable in nature\n",
    "print(name)\n"
   ]
  },
  {
   "cell_type": "code",
   "execution_count": 40,
   "metadata": {},
   "outputs": [
    {
     "name": "stdout",
     "output_type": "stream",
     "text": [
      "ashwin kumar\n"
     ]
    }
   ],
   "source": [
    "name=\"ashwani kumar\" \n",
    "newname=name.replace(\"ani\",\"in\") #but we can use old string to make a new string with different variable name\n",
    "print(newname)\n",
    "\n"
   ]
  },
  {
   "cell_type": "code",
   "execution_count": 42,
   "metadata": {},
   "outputs": [
    {
     "name": "stdout",
     "output_type": "stream",
     "text": [
      "ashwani kumar\n"
     ]
    }
   ],
   "source": [
    "name=\"ashwani\"\n",
    "name+=\" kumar\"  #we can concatenate anything into string but cant change character in readymade strings\n",
    "print(name)"
   ]
  },
  {
   "cell_type": "code",
   "execution_count": 43,
   "metadata": {},
   "outputs": [
    {
     "name": "stdout",
     "output_type": "stream",
     "text": [
      "enter your age : 25\n",
      "456972.0\n"
     ]
    }
   ],
   "source": [
    "age=int(input(\"enter your age : \"))\n",
    "age*=4\n",
    "age+=4\n",
    "age/=4\n",
    "age**=4\n",
    "age-=4\n",
    "print(age)\n"
   ]
  },
  {
   "cell_type": "code",
   "execution_count": 46,
   "metadata": {},
   "outputs": [
    {
     "name": "stdout",
     "output_type": "stream",
     "text": [
      "enter your age :20\n",
      "you are 20 or more than 20 \n"
     ]
    }
   ],
   "source": [
    "age=input(\"enter your age :\")\n",
    "if int(age)>=20:\n",
    "    print(\"you are 20 or more than 20 \")\n",
    "else:\n",
    "    print(\"you are younger than 20\")\n"
   ]
  },
  {
   "cell_type": "code",
   "execution_count": 53,
   "metadata": {},
   "outputs": [
    {
     "name": "stdout",
     "output_type": "stream",
     "text": [
      "enter your age :20\n"
     ]
    }
   ],
   "source": [
    "age=int(input(\"enter your age :\"))\n",
    "if age==20:\n",
    "    pass\n",
    "else:\n",
    "    if age>20:\n",
    "        print(\"you are younger than 20\")\n",
    "    else:\n",
    "        print(\"ok\")"
   ]
  },
  {
   "cell_type": "code",
   "execution_count": 55,
   "metadata": {},
   "outputs": [
    {
     "name": "stdout",
     "output_type": "stream",
     "text": [
      "enter your name and age :ashwani,25\n",
      "this is ashwani who is 25 years old\n"
     ]
    }
   ],
   "source": [
    "name,age=input(\"enter your name and age :\").split(\",\")\n",
    "age=int(age)\n",
    "if name==\"ashwani\" and age==25:\n",
    "    print(\"this is {} who is {} years old\".format(name,age))\n",
    "else:\n",
    "    if name ==\"sumit\" and age==20:\n",
    "        print(\"this is {} who is {} years old\".format(name,age))\n",
    "    else:\n",
    "        print(\"sorry, we did not identify you\")\n"
   ]
  },
  {
   "cell_type": "code",
   "execution_count": 57,
   "metadata": {},
   "outputs": [
    {
     "name": "stdout",
     "output_type": "stream",
     "text": [
      "enter your name, age, place you live in :sumit,20,sagarpur\n",
      "this is sumit who is 20 years old and you are living at sagarpur\n"
     ]
    }
   ],
   "source": [
    "name,age,place=input(\"enter your name, age, place you live in :\").split(\",\")\n",
    "age=int(age)\n",
    "if name==\"ashwani\" and age==25 and (place==\"sagarpur\" or place==\"delhi\"):\n",
    "    print(\"this is {} who is {} years old and you are living at {}\".format(name,age,place)) \n",
    "else:\n",
    "    if name ==\"sumit\" and age==20 and (place==\"sagarpur\" or place==\"delhi\"):\n",
    "        print(\"this is {} who is {} years old and you are living at {}\".format(name,age,place))\n",
    "    else:\n",
    "        print(\"sorry, we did not identify you\")"
   ]
  },
  {
   "cell_type": "code",
   "execution_count": 61,
   "metadata": {},
   "outputs": [
    {
     "name": "stdout",
     "output_type": "stream",
     "text": [
      "enter your age :10\n",
      "ticket price: 150rs\n"
     ]
    }
   ],
   "source": [
    "age=int(input(\"enter your age :\"))\n",
    "if age==0 or age<0:\n",
    "    print(\"invalid input:please input age greater than 0\")\n",
    "elif age>0 and age<=3:\n",
    "    print(\"ticket price: 0rs\")\n",
    "elif age>3 and age<=10:\n",
    "    print(\"ticket price: 150rs\")\n",
    "elif age>10 and age<=16:\n",
    "    print(\"ticket price: 250rs\")    \n",
    "else:\n",
    "    print(\"ticket price: 200rs\")"
   ]
  },
  {
   "cell_type": "code",
   "execution_count": 63,
   "metadata": {},
   "outputs": [
    {
     "name": "stdout",
     "output_type": "stream",
     "text": [
      "enter your age :0\n",
      "invalid input:please input age greater than 0\n"
     ]
    }
   ],
   "source": [
    "age=int(input(\"enter your age :\"))\n",
    "if age<=0:\n",
    "    print(\"invalid input:please input age greater than 0\")\n",
    "elif 0<age<=3:\n",
    "    print(\"ticket price: 0rs\")\n",
    "elif 3<age<=10:\n",
    "    print(\"ticket price: 150rs\")\n",
    "elif 10<age<=16:\n",
    "    print(\"ticket price: 250rs\")    \n",
    "else:\n",
    "    print(\"ticket price: 200r|s\")\n"
   ]
  },
  {
   "cell_type": "code",
   "execution_count": 65,
   "metadata": {},
   "outputs": [
    {
     "name": "stdout",
     "output_type": "stream",
     "text": [
      "enter something into string : \n",
      "you did not input anything into string\n"
     ]
    }
   ],
   "source": [
    "string=input(\"enter something into string : \")\n",
    "if string:\n",
    "    print(f\"you have input:{string}\")\n",
    "else:\n",
    "    print(\"you did not input anything into string\")\n"
   ]
  },
  {
   "cell_type": "code",
   "execution_count": 68,
   "metadata": {},
   "outputs": [
    {
     "name": "stdout",
     "output_type": "stream",
     "text": [
      "enter something into string and loops number: fuck off,20\n",
      "you have input:fuck off and loop number is: 1\n",
      "you have input:fuck off and loop number is: 2\n",
      "you have input:fuck off and loop number is: 3\n",
      "you have input:fuck off and loop number is: 4\n",
      "you have input:fuck off and loop number is: 5\n",
      "you have input:fuck off and loop number is: 6\n",
      "you have input:fuck off and loop number is: 7\n",
      "you have input:fuck off and loop number is: 8\n",
      "you have input:fuck off and loop number is: 9\n",
      "you have input:fuck off and loop number is: 10\n",
      "you have input:fuck off and loop number is: 11\n",
      "you have input:fuck off and loop number is: 12\n",
      "you have input:fuck off and loop number is: 13\n",
      "you have input:fuck off and loop number is: 14\n",
      "you have input:fuck off and loop number is: 15\n",
      "you have input:fuck off and loop number is: 16\n",
      "you have input:fuck off and loop number is: 17\n",
      "you have input:fuck off and loop number is: 18\n",
      "you have input:fuck off and loop number is: 19\n",
      "you have input:fuck off and loop number is: 20\n"
     ]
    }
   ],
   "source": [
    "string,loop=input(\"enter something into string and loops number: \").split(\",\")\n",
    "loop=int(loop)\n",
    "i=0\n",
    "while 0<loop<=100:\n",
    "    i+=1\n",
    "    if string:\n",
    "        print(f\"you have input:{string} and loop number is: {i}\")\n",
    "        loop-=1"
   ]
  },
  {
   "cell_type": "code",
   "execution_count": 69,
   "metadata": {},
   "outputs": [
    {
     "name": "stdout",
     "output_type": "stream",
     "text": [
      "enter your number: 23423453245234532\n",
      "sum:56\n"
     ]
    }
   ],
   "source": [
    "number=input(\"enter your number: \")\n",
    "i=0\n",
    "sum=0\n",
    "l=len(number)-1\n",
    "while i<=l:\n",
    "    sum=sum+int(number[i])\n",
    "    i=i+1\n",
    "print(\"sum:\" + str(sum))\n"
   ]
  },
  {
   "cell_type": "code",
   "execution_count": 70,
   "metadata": {},
   "outputs": [
    {
     "name": "stdout",
     "output_type": "stream",
     "text": [
      "enter your name :ashwani kumar\n",
      "3\n",
      "1\n",
      "1\n",
      "1\n",
      "3\n",
      "1\n",
      "1\n",
      "1\n",
      "1\n",
      "1\n",
      "1\n",
      "3\n",
      "1\n"
     ]
    }
   ],
   "source": [
    "name=input(\"enter your name :\")\n",
    "i=0\n",
    "while i<=(len(name)-1):\n",
    "    print(name.count(name[i]))\n",
    "    i+=1\n"
   ]
  },
  {
   "cell_type": "code",
   "execution_count": null,
   "metadata": {},
   "outputs": [],
   "source": [
    "first,second=input(\"enter first and second number :\").split(\",\")\n",
    "first=int(first)\n",
    "second=int(second)\n",
    "while first<=second:\n",
    "    print(f\"{str(first)} * {str(second)} = {str(first*second)}\")\n",
    "    first+=1\n",
    "    second+=1\n",
    "# user control+c to break infinite loop"
   ]
  },
  {
   "cell_type": "code",
   "execution_count": null,
   "metadata": {},
   "outputs": [],
   "source": [
    "while True:    #to run infinte loop   (T will be capital else it not works)\n",
    "    print(\"helloworld\")"
   ]
  },
  {
   "cell_type": "code",
   "execution_count": 3,
   "metadata": {},
   "outputs": [],
   "source": [
    "while False:   #(F will be capital else it not works)\n",
    "    print(\"helloworld\")"
   ]
  },
  {
   "cell_type": "code",
   "execution_count": 6,
   "metadata": {},
   "outputs": [
    {
     "name": "stdout",
     "output_type": "stream",
     "text": [
      "helloworld0\n",
      "helloworld1\n",
      "helloworld2\n",
      "helloworld3\n",
      "helloworld4\n",
      "helloworld5\n",
      "helloworld6\n",
      "helloworld7\n",
      "helloworld8\n",
      "helloworld9\n"
     ]
    }
   ],
   "source": [
    "for i in range(10):\n",
    "    print(f\"helloworld{i}\")"
   ]
  },
  {
   "cell_type": "code",
   "execution_count": 8,
   "metadata": {},
   "outputs": [
    {
     "name": "stdout",
     "output_type": "stream",
     "text": [
      "helloworld11\n",
      "helloworld12\n",
      "helloworld13\n",
      "helloworld14\n",
      "helloworld15\n",
      "helloworld16\n",
      "helloworld17\n",
      "helloworld18\n",
      "helloworld19\n"
     ]
    }
   ],
   "source": [
    "for i in range(11,20):\n",
    "    print(f\"helloworld{i}\")"
   ]
  },
  {
   "cell_type": "code",
   "execution_count": 11,
   "metadata": {},
   "outputs": [
    {
     "name": "stdout",
     "output_type": "stream",
     "text": [
      "enter the number : 10\n",
      "sum is : 1\n",
      "sum is : 3\n",
      "sum is : 6\n",
      "sum is : 10\n",
      "sum is : 15\n",
      "sum is : 21\n",
      "sum is : 28\n",
      "sum is : 36\n",
      "sum is : 45\n",
      "sum is : 55\n"
     ]
    }
   ],
   "source": [
    "n=int(input(\"enter the number : \"))\n",
    "total=0\n",
    "for i in range(1,n+1):\n",
    "    total+=i\n",
    "    print(f\"sum is : {str(total)}\")"
   ]
  },
  {
   "cell_type": "code",
   "execution_count": 14,
   "metadata": {},
   "outputs": [
    {
     "name": "stdout",
     "output_type": "stream",
     "text": [
      "enter the number: 121212121211\n",
      "total : 17\n"
     ]
    }
   ],
   "source": [
    "n=input(\"enter the number: \")\n",
    "total=0\n",
    "for i in range(0,len(n)):\n",
    "    total=total+int(n[i])\n",
    "print(\"total : \" + str(total))\n"
   ]
  },
  {
   "cell_type": "code",
   "execution_count": 18,
   "metadata": {},
   "outputs": [
    {
     "name": "stdout",
     "output_type": "stream",
     "text": [
      "enter the string : ashwani kumar \n",
      "characeter:a and 3\n",
      "characeter:s and 1\n",
      "characeter:h and 1\n",
      "characeter:w and 1\n",
      "characeter:n and 1\n",
      "characeter:i and 1\n",
      "characeter:  and 2\n",
      "characeter:k and 1\n",
      "characeter:u and 1\n",
      "characeter:m and 1\n",
      "characeter:r and 1\n"
     ]
    }
   ],
   "source": [
    "name=input(\"enter the string : \")\n",
    "temp=\"\"\n",
    "for i in range(len(name)):\n",
    "    if name[i] not in temp:\n",
    "        print(f\"characeter:{name[i]} and {str(name.count(name[i]))}\")\n",
    "        temp+= name[i]"
   ]
  },
  {
   "cell_type": "code",
   "execution_count": 22,
   "metadata": {},
   "outputs": [
    {
     "name": "stdout",
     "output_type": "stream",
     "text": [
      "1\n",
      "2\n",
      "3\n",
      "4\n",
      "5\n",
      "6\n",
      "7\n",
      "8\n",
      "9\n"
     ]
    }
   ],
   "source": [
    "for i in range(1,11):\n",
    "    if i==10:\n",
    "        break\n",
    "    print(i)"
   ]
  },
  {
   "cell_type": "code",
   "execution_count": 23,
   "metadata": {},
   "outputs": [
    {
     "name": "stdout",
     "output_type": "stream",
     "text": [
      "1\n",
      "2\n",
      "3\n",
      "4\n",
      "6\n",
      "7\n",
      "8\n",
      "9\n",
      "10\n"
     ]
    }
   ],
   "source": [
    "for i in range(1,11):\n",
    "    if i==5:\n",
    "        continue\n",
    "    print(i)"
   ]
  },
  {
   "cell_type": "code",
   "execution_count": 1,
   "metadata": {},
   "outputs": [
    {
     "name": "stdout",
     "output_type": "stream",
     "text": [
      "type 'start' to start the game:hello\n",
      "you have typed the wrong input\n"
     ]
    },
    {
     "ename": "NameError",
     "evalue": "name 'game_over' is not defined",
     "output_type": "error",
     "traceback": [
      "\u001b[1;31m---------------------------------------------------------------------------\u001b[0m",
      "\u001b[1;31mNameError\u001b[0m                                 Traceback (most recent call last)",
      "\u001b[1;32m<ipython-input-1-a074bec2c495>\u001b[0m in \u001b[0;36m<module>\u001b[1;34m\u001b[0m\n\u001b[0;32m     54\u001b[0m \u001b[1;33m\u001b[0m\u001b[0m\n\u001b[0;32m     55\u001b[0m \u001b[1;33m\u001b[0m\u001b[0m\n\u001b[1;32m---> 56\u001b[1;33m \u001b[1;32mif\u001b[0m \u001b[0mgame_over\u001b[0m\u001b[1;33m==\u001b[0m\u001b[1;32mTrue\u001b[0m\u001b[1;33m:\u001b[0m\u001b[1;33m\u001b[0m\u001b[1;33m\u001b[0m\u001b[0m\n\u001b[0m\u001b[0;32m     57\u001b[0m     \u001b[0mplay_quit\u001b[0m\u001b[1;33m=\u001b[0m\u001b[0minput\u001b[0m\u001b[1;33m(\u001b[0m\u001b[1;34m\"type 'play' to play a new game else type 'quit':\"\u001b[0m\u001b[1;33m)\u001b[0m\u001b[1;33m\u001b[0m\u001b[1;33m\u001b[0m\u001b[0m\n\u001b[0;32m     58\u001b[0m     \u001b[1;32mif\u001b[0m \u001b[0mplay_quit\u001b[0m\u001b[1;33m==\u001b[0m\u001b[1;34m'play'\u001b[0m\u001b[1;33m:\u001b[0m\u001b[1;33m\u001b[0m\u001b[1;33m\u001b[0m\u001b[0m\n",
      "\u001b[1;31mNameError\u001b[0m: name 'game_over' is not defined"
     ]
    }
   ],
   "source": [
    "def quit_game():\n",
    "    print(\"thank you for playing\")\n",
    "    \n",
    "def input_values():\n",
    "    number=int(input(\"guess a number between 1 and 100: \"))\n",
    "    winning_number=int(input(\"let other player type the winning number:\"))\n",
    "    guess=1\n",
    "    game_over=False\n",
    "\n",
    "def play():\n",
    "    while game_over==False:\n",
    "        if number==winning_number:\n",
    "            print(f\"you win, and you guessed this number in {guess}th time\")\n",
    "            game_over=True\n",
    "        else:\n",
    "            if number<winning_number:\n",
    "                print(\"guessed number is too low\")\n",
    "                play_quit=input(\"Type 'guess' to guess again or Type 'play' to play a new game or Type 'quit' to quit the game:\")\n",
    "                if play_quit=='guess':\n",
    "                    number=int(input(\"enter number to guess again:\"))\n",
    "                    game_over==False\n",
    "                elif play_quit=='play':\n",
    "                    input_values()\n",
    "                    play()\n",
    "                elif play_quit=='quit':\n",
    "                    quit_game()\n",
    "            else:\n",
    "                print(\"guessed number is too high\")\n",
    "                play_quit=input(\"Type 'guess' to guess again or Type 'play' to play a new game or Type 'quit' to quit the game:\")\n",
    "                if play_quit=='guess':\n",
    "                    number=int(input(\"enter number to guess again:\"))\n",
    "                    game_over==False\n",
    "                elif play_quit=='play':\n",
    "                    input_values()\n",
    "                    play()\n",
    "                elif play_quit=='quit':\n",
    "                    quit_game()\n",
    "    guess +=1\n",
    "\n",
    "game=input(\"type 'start' to start the game:\")\n",
    "if game=='start':\n",
    "    input_values()\n",
    "    play()\n",
    "elif game=='':\n",
    "    print(\"you have entered wrong input value\")\n",
    "    game=input(\"please type 'start' to start the game:\")\n",
    "    if game=='start':\n",
    "        input_values()\n",
    "        play()\n",
    "    else:\n",
    "        print(\"sorry you have input wrong field again , please come back again after some time\")\n",
    "else:\n",
    "    print(\"you have typed the wrong input\")\n",
    "\n",
    "        \n",
    "if game_over==True:\n",
    "    play_quit=input(\"type 'play' to play a new game else type 'quit':\")\n",
    "    if play_quit=='play':\n",
    "        input_values()\n",
    "        play()\n",
    "    elif play_quit=='quit':\n",
    "        quit_game()\n",
    "                \n",
    "    \n"
   ]
  },
  {
   "cell_type": "code",
   "execution_count": 6,
   "metadata": {},
   "outputs": [
    {
     "name": "stdout",
     "output_type": "stream",
     "text": [
      "enter a number : 2323\n",
      "10\n"
     ]
    }
   ],
   "source": [
    "num=input(\"enter a number : \")\n",
    "total=0\n",
    "for i in num:\n",
    "    total+= int(i)\n",
    "print(str(total))\n",
    "\n",
    "\n"
   ]
  },
  {
   "cell_type": "code",
   "execution_count": 7,
   "metadata": {},
   "outputs": [
    {
     "name": "stdout",
     "output_type": "stream",
     "text": [
      "m\n",
      "o\n",
      "h\n",
      "i\n",
      "t\n"
     ]
    }
   ],
   "source": [
    "for i in \"mohit\":\n",
    "    print(i)"
   ]
  },
  {
   "cell_type": "code",
   "execution_count": 13,
   "metadata": {},
   "outputs": [
    {
     "name": "stdout",
     "output_type": "stream",
     "text": [
      "enter numbers a and b : 1,2\n",
      "3\n"
     ]
    }
   ],
   "source": [
    "def sum(p,q):\n",
    "    sum=p+q\n",
    "    return sum\n",
    "a,b=input(\"enter numbers a and b : \").split(\",\")\n",
    "print(str(sum(int(a),int(b))))"
   ]
  },
  {
   "cell_type": "code",
   "execution_count": 14,
   "metadata": {},
   "outputs": [
    {
     "name": "stdout",
     "output_type": "stream",
     "text": [
      "r\n"
     ]
    }
   ],
   "source": [
    "def last_char(name):\n",
    "    return name[-1]\n",
    "print(last_char(\"ashwani kumar\"))"
   ]
  },
  {
   "cell_type": "code",
   "execution_count": 15,
   "metadata": {},
   "outputs": [
    {
     "name": "stdout",
     "output_type": "stream",
     "text": [
      "enter the number : 5\n",
      "odd number\n"
     ]
    }
   ],
   "source": [
    "def odd_even(num):\n",
    "    if num%2==0:\n",
    "        print(\"even number\")\n",
    "    else:\n",
    "        print(\"odd number\")\n",
    "num=int(input(\"enter the number : \"))\n",
    "odd_even(num)\n"
   ]
  },
  {
   "cell_type": "code",
   "execution_count": 16,
   "metadata": {},
   "outputs": [
    {
     "name": "stdout",
     "output_type": "stream",
     "text": [
      "enter the number :5\n",
      "odd\n"
     ]
    }
   ],
   "source": [
    "def odd_even(num):\n",
    "    if num%2==0:\n",
    "        return \"even\"\n",
    "    return \"odd\"\n",
    "num=int(input(\"enter the number :\"))\n",
    "print(odd_even(num))"
   ]
  },
  {
   "cell_type": "code",
   "execution_count": 17,
   "metadata": {},
   "outputs": [
    {
     "name": "stdout",
     "output_type": "stream",
     "text": [
      "True\n"
     ]
    }
   ],
   "source": [
    "def is_even(num):\n",
    "    return num%2==0\n",
    "print(is_even(10))\n"
   ]
  },
  {
   "cell_type": "code",
   "execution_count": 18,
   "metadata": {},
   "outputs": [
    {
     "name": "stdout",
     "output_type": "stream",
     "text": [
      "helloWorld\n"
     ]
    }
   ],
   "source": [
    "def song():\n",
    "    return \"helloWorld\"\n",
    "print(song())"
   ]
  },
  {
   "cell_type": "code",
   "execution_count": 21,
   "metadata": {},
   "outputs": [
    {
     "name": "stdout",
     "output_type": "stream",
     "text": [
      "enter first number: 44\n",
      "enter second number: 55\n",
      "55 is greatest among all\n"
     ]
    }
   ],
   "source": [
    "def greater(a,b):\n",
    "    if a>b:\n",
    "        return a\n",
    "    else:\n",
    "        return b\n",
    "a=int(input(\"enter first number: \"))\n",
    "b=int(input(\"enter second number: \"))\n",
    "bigger=greater(a,b)\n",
    "print(f\"{bigger} is greatest among all\")\n"
   ]
  },
  {
   "cell_type": "code",
   "execution_count": 26,
   "metadata": {},
   "outputs": [
    {
     "name": "stdout",
     "output_type": "stream",
     "text": [
      "30\n",
      "30\n"
     ]
    }
   ],
   "source": [
    "def greatest(a,b,c):\n",
    "    if a>b and a>c:\n",
    "        return a\n",
    "    elif b>a and b>c:\n",
    "        return b\n",
    "    else:\n",
    "        return c\n",
    "def new_greatest(a,b,c):\n",
    "    return greater(greater(a,b), c)\n",
    "def greater(a,b):\n",
    "    if a>b:\n",
    "        return a\n",
    "    else:\n",
    "        return b\n",
    "print(new_greatest(10,20,30))\n",
    "print(greatest(10,20,30))\n"
   ]
  },
  {
   "cell_type": "code",
   "execution_count": 28,
   "metadata": {},
   "outputs": [
    {
     "name": "stdout",
     "output_type": "stream",
     "text": [
      "True\n",
      "False\n"
     ]
    }
   ],
   "source": [
    "def is_palindrom(word):\n",
    "        return word == word[::-1]\n",
    "\n",
    "print(is_palindrom(\"naman\"))\n",
    "print(is_palindrom(\"horse\"))"
   ]
  },
  {
   "cell_type": "code",
   "execution_count": 33,
   "metadata": {},
   "outputs": [
    {
     "name": "stdout",
     "output_type": "stream",
     "text": [
      "12345678910"
     ]
    }
   ],
   "source": [
    "for i in range(1,11):\n",
    "    print(i, end = \"\")"
   ]
  },
  {
   "cell_type": "code",
   "execution_count": 34,
   "metadata": {},
   "outputs": [
    {
     "name": "stdout",
     "output_type": "stream",
     "text": [
      "1\n",
      "2\n",
      "3\n",
      "4\n",
      "5\n",
      "6\n",
      "7\n",
      "8\n",
      "9\n",
      "10\n"
     ]
    }
   ],
   "source": [
    "for i in range(1,11):\n",
    "    print(i, end = \"\\n\")\n"
   ]
  },
  {
   "cell_type": "code",
   "execution_count": 35,
   "metadata": {},
   "outputs": [
    {
     "name": "stdout",
     "output_type": "stream",
     "text": [
      "1 2 3 4 5 6 7 8 9 10 "
     ]
    }
   ],
   "source": [
    "for i in range(1,11):\n",
    "    print(i, end = \" \")"
   ]
  },
  {
   "cell_type": "code",
   "execution_count": 40,
   "metadata": {},
   "outputs": [
    {
     "name": "stdout",
     "output_type": "stream",
     "text": [
      "1,2,3,4,5,6,7,8,9,10\n"
     ]
    }
   ],
   "source": [
    "for i in range(1,11):\n",
    "    if i==10:\n",
    "        print('10')\n",
    "    else:\n",
    "        print(i, end = \",\")"
   ]
  },
  {
   "cell_type": "code",
   "execution_count": 51,
   "metadata": {},
   "outputs": [
    {
     "name": "stdout",
     "output_type": "stream",
     "text": [
      "enter the number of sequence:10\n",
      "0 1 1 2 3 5 8 13 21 34 "
     ]
    }
   ],
   "source": [
    "def fibonacci_seq(n):\n",
    "    a=0\n",
    "    b=1\n",
    "    if n==1:\n",
    "        print(a)\n",
    "    elif n==2:\n",
    "        print(f\"{a} {b}\")\n",
    "    else:\n",
    "        print(a,b,end=\" \")\n",
    "        for i in range(n-2):\n",
    "            c=a+b\n",
    "            a=b\n",
    "            b=c\n",
    "            print(b, end=\" \")\n",
    "\n",
    "n=int(input(\"enter the number of sequence:\"))\n",
    "fibonacci_seq(n)\n"
   ]
  },
  {
   "cell_type": "code",
   "execution_count": 54,
   "metadata": {},
   "outputs": [
    {
     "name": "stdout",
     "output_type": "stream",
     "text": [
      "ashwani\n",
      "sumit\n",
      "23\n"
     ]
    }
   ],
   "source": [
    "def user_info(first_name,last_name,age=23):\n",
    "    print(f\"{first_name}\")\n",
    "    print(f\"{last_name}\")\n",
    "    print(f\"{age}\")\n",
    "user_info('ashwani', 'sumit')"
   ]
  },
  {
   "cell_type": "code",
   "execution_count": 55,
   "metadata": {},
   "outputs": [
    {
     "name": "stdout",
     "output_type": "stream",
     "text": [
      "harshit\n",
      "vashista\n",
      "24\n"
     ]
    }
   ],
   "source": [
    "def user_info(first_name,last_name,age=23):\n",
    "    print(f\"{first_name}\")\n",
    "    print(f\"{last_name}\")\n",
    "    print(f\"{age}\")\n",
    "user_info('harshit', 'vashista', 24)\n"
   ]
  },
  {
   "cell_type": "code",
   "execution_count": 56,
   "metadata": {},
   "outputs": [
    {
     "name": "stdout",
     "output_type": "stream",
     "text": [
      "harshit\n",
      "unknown\n",
      "None\n"
     ]
    }
   ],
   "source": [
    "\n",
    "def user_info(first_name,last_name='unknown',age=None):#default arguments only exists in the last\n",
    "    print(f\"{first_name}\")\n",
    "    print(f\"{last_name}\")\n",
    "    print(f\"{age}\")\n",
    "user_info('harshit')"
   ]
  },
  {
   "cell_type": "code",
   "execution_count": 58,
   "metadata": {},
   "outputs": [
    {
     "name": "stdout",
     "output_type": "stream",
     "text": [
      "None\n",
      "None\n",
      "None\n"
     ]
    }
   ],
   "source": [
    "def user_info(first_name=None,last_name=None,age=None):\n",
    "    print(f\"{first_name}\")\n",
    "    print(f\"{last_name}\")\n",
    "    print(f\"{age}\")\n",
    "user_info()"
   ]
  },
  {
   "cell_type": "code",
   "execution_count": 59,
   "metadata": {},
   "outputs": [
    {
     "ename": "NameError",
     "evalue": "name 'x' is not defined",
     "output_type": "error",
     "traceback": [
      "\u001b[1;31m---------------------------------------------------------------------------\u001b[0m",
      "\u001b[1;31mNameError\u001b[0m                                 Traceback (most recent call last)",
      "\u001b[1;32m<ipython-input-59-d1c6d335e42c>\u001b[0m in \u001b[0;36m<module>\u001b[1;34m\u001b[0m\n\u001b[0;32m      2\u001b[0m     \u001b[0mx\u001b[0m\u001b[1;33m=\u001b[0m\u001b[1;36m7\u001b[0m \u001b[1;31m#local variable\u001b[0m\u001b[1;33m\u001b[0m\u001b[1;33m\u001b[0m\u001b[0m\n\u001b[0;32m      3\u001b[0m     \u001b[0mprint\u001b[0m\u001b[1;33m(\u001b[0m\u001b[0mx\u001b[0m\u001b[1;33m)\u001b[0m\u001b[1;33m\u001b[0m\u001b[1;33m\u001b[0m\u001b[0m\n\u001b[1;32m----> 4\u001b[1;33m \u001b[0mprint\u001b[0m\u001b[1;33m(\u001b[0m\u001b[0mx\u001b[0m\u001b[1;33m)\u001b[0m\u001b[1;33m\u001b[0m\u001b[1;33m\u001b[0m\u001b[0m\n\u001b[0m",
      "\u001b[1;31mNameError\u001b[0m: name 'x' is not defined"
     ]
    }
   ],
   "source": [
    "def func():\n",
    "    x=7 #local variable\n",
    "    print(x)\n",
    "print(x)"
   ]
  },
  {
   "cell_type": "code",
   "execution_count": 60,
   "metadata": {},
   "outputs": [
    {
     "name": "stdout",
     "output_type": "stream",
     "text": [
      "7\n",
      "8\n"
     ]
    }
   ],
   "source": [
    "x=8 #global variable\n",
    "def func():\n",
    "    x=7 #local variable\n",
    "    print(x)\n",
    "func()\n",
    "print(x)\n"
   ]
  },
  {
   "cell_type": "code",
   "execution_count": 61,
   "metadata": {},
   "outputs": [
    {
     "name": "stdout",
     "output_type": "stream",
     "text": [
      "8\n",
      "8\n"
     ]
    }
   ],
   "source": [
    "x=8 #global variable\n",
    "def func():\n",
    "    global x\n",
    "    print(x)\n",
    "func()\n",
    "print(x)\n"
   ]
  },
  {
   "cell_type": "code",
   "execution_count": 62,
   "metadata": {},
   "outputs": [
    {
     "name": "stdout",
     "output_type": "stream",
     "text": [
      "[1, 2, 3, 4]\n"
     ]
    }
   ],
   "source": [
    "numbers=[1,2,3,4]\n",
    "print(numbers)"
   ]
  },
  {
   "cell_type": "code",
   "execution_count": 63,
   "metadata": {},
   "outputs": [
    {
     "name": "stdout",
     "output_type": "stream",
     "text": [
      "['word1', 'word2', 'word3']\n"
     ]
    }
   ],
   "source": [
    "words=['word1','word2','word3']\n",
    "print(words)"
   ]
  },
  {
   "cell_type": "code",
   "execution_count": 64,
   "metadata": {},
   "outputs": [
    {
     "name": "stdout",
     "output_type": "stream",
     "text": [
      "['word1', 'word2', 'word3']\n"
     ]
    }
   ],
   "source": [
    "words=[\"word1\",\"word2\",\"word3\"]\n",
    "print(words)"
   ]
  },
  {
   "cell_type": "code",
   "execution_count": 65,
   "metadata": {},
   "outputs": [
    {
     "name": "stdout",
     "output_type": "stream",
     "text": [
      "[1, 2, 3, 4, 'five', 'six', 2.3, None]\n"
     ]
    }
   ],
   "source": [
    "mixed=[1,2,3,4,\"five\",\"six\", 2.3, None]\n",
    "print(mixed)"
   ]
  },
  {
   "cell_type": "code",
   "execution_count": 69,
   "metadata": {},
   "outputs": [
    {
     "name": "stdout",
     "output_type": "stream",
     "text": [
      "None\n"
     ]
    }
   ],
   "source": [
    "mixed=[1,2,3,4,\"five\",\"six\", 2.3, None]\n",
    "print(mixed[7])"
   ]
  },
  {
   "cell_type": "code",
   "execution_count": 70,
   "metadata": {},
   "outputs": [
    {
     "name": "stdout",
     "output_type": "stream",
     "text": [
      "[1, 2]\n"
     ]
    }
   ],
   "source": [
    "mixed=[1,2,3,4,\"five\",\"six\", 2.3, None]\n",
    "print(mixed[:2])"
   ]
  },
  {
   "cell_type": "code",
   "execution_count": 71,
   "metadata": {},
   "outputs": [
    {
     "name": "stdout",
     "output_type": "stream",
     "text": [
      "[1, 2, 3, 4, 'five', 'six', 2.3]\n"
     ]
    }
   ],
   "source": [
    "mixed=[1,2,3,4,\"five\",\"six\", 2.3, None]\n",
    "print(mixed[:-1])"
   ]
  },
  {
   "cell_type": "code",
   "execution_count": 72,
   "metadata": {},
   "outputs": [
    {
     "name": "stdout",
     "output_type": "stream",
     "text": [
      "None\n"
     ]
    }
   ],
   "source": [
    "mixed=[1,2,3,4,\"five\",\"six\", 2.3, None]\n",
    "print(mixed[-1])"
   ]
  },
  {
   "cell_type": "code",
   "execution_count": 79,
   "metadata": {},
   "outputs": [
    {
     "name": "stdout",
     "output_type": "stream",
     "text": [
      "['two', 'three', 'four']\n"
     ]
    }
   ],
   "source": [
    "mixed[0:]=['two','three','four']\n",
    "print(mixed)"
   ]
  },
  {
   "cell_type": "code",
   "execution_count": 80,
   "metadata": {},
   "outputs": [
    {
     "name": "stdout",
     "output_type": "stream",
     "text": [
      "['grapes', 'apples', 'mango']\n"
     ]
    }
   ],
   "source": [
    "fruits=['grapes','apples']\n",
    "fruits.append('mango')\n",
    "print(fruits)"
   ]
  },
  {
   "cell_type": "code",
   "execution_count": 11,
   "metadata": {},
   "outputs": [
    {
     "name": "stdout",
     "output_type": "stream",
     "text": [
      "['mango']\n"
     ]
    }
   ],
   "source": [
    "fruits=[]\n",
    "fruits.append('mango')\n",
    "print(fruits)"
   ]
  },
  {
   "cell_type": "code",
   "execution_count": 14,
   "metadata": {},
   "outputs": [
    {
     "name": "stdout",
     "output_type": "stream",
     "text": [
      "['abc', 'grapes', 'def', 'ghi']\n"
     ]
    }
   ],
   "source": [
    "fruits2=['abc','def','ghi']\n",
    "fruits2.insert(1,\"grapes\")\n",
    "print(fruits2)"
   ]
  },
  {
   "cell_type": "code",
   "execution_count": 15,
   "metadata": {},
   "outputs": [
    {
     "name": "stdout",
     "output_type": "stream",
     "text": [
      "['abc', 'def', 'ghi', 'x', 'y', 'z']\n"
     ]
    }
   ],
   "source": [
    "fruits1=['abc','def','ghi']\n",
    "fruits2=['x','y','z']\n",
    "print(fruits1+fruits2)"
   ]
  },
  {
   "cell_type": "code",
   "execution_count": 20,
   "metadata": {},
   "outputs": [
    {
     "name": "stdout",
     "output_type": "stream",
     "text": [
      "['abc', 'def', 'ghi', 'x', 'y', 'z']\n",
      "['abc', 'def', 'ghi', 'x', 'y', 'z', ['x', 'y', 'z']]\n"
     ]
    }
   ],
   "source": [
    "fruits1=['abc','def','ghi']\n",
    "fruits2=['x','y','z']\n",
    "fruits1.extend(fruits2)\n",
    "print(fruits1)\n"
   ]
  },
  {
   "cell_type": "code",
   "execution_count": 21,
   "metadata": {},
   "outputs": [
    {
     "name": "stdout",
     "output_type": "stream",
     "text": [
      "['abc', 'def', 'ghi', ['x', 'y', 'z']]\n"
     ]
    }
   ],
   "source": [
    "fruits1=['abc','def','ghi']\n",
    "fruits2=['x','y','z']\n",
    "fruits1.append(fruits2) \n",
    "print(fruits1)"
   ]
  },
  {
   "cell_type": "code",
   "execution_count": 22,
   "metadata": {},
   "outputs": [
    {
     "data": {
      "text/plain": [
       "'z'"
      ]
     },
     "execution_count": 22,
     "metadata": {},
     "output_type": "execute_result"
    }
   ],
   "source": [
    "\n",
    "fruits2=['x','y','z']\n",
    "fruits2.pop() \n"
   ]
  },
  {
   "cell_type": "code",
   "execution_count": 23,
   "metadata": {},
   "outputs": [
    {
     "data": {
      "text/plain": [
       "'def'"
      ]
     },
     "execution_count": 23,
     "metadata": {},
     "output_type": "execute_result"
    }
   ],
   "source": [
    "fruits1=['abc','def','ghi']\n",
    "fruits1.pop(1) "
   ]
  },
  {
   "cell_type": "code",
   "execution_count": 26,
   "metadata": {},
   "outputs": [
    {
     "name": "stdout",
     "output_type": "stream",
     "text": [
      "['abc', 'ghi']\n"
     ]
    }
   ],
   "source": [
    "fruits1=['abc','def','ghi']\n",
    "del fruits1[1]\n",
    "print(fruits1)"
   ]
  },
  {
   "cell_type": "code",
   "execution_count": 28,
   "metadata": {},
   "outputs": [
    {
     "name": "stdout",
     "output_type": "stream",
     "text": [
      "['def', 'ghi']\n"
     ]
    }
   ],
   "source": [
    "fruits2=['abc','def','ghi']\n",
    "fruits2.remove('abc') #it removes only first occurence of a particular keyword\n",
    "print(fruits2)"
   ]
  },
  {
   "cell_type": "code",
   "execution_count": 29,
   "metadata": {},
   "outputs": [
    {
     "name": "stdout",
     "output_type": "stream",
     "text": [
      "hello is present in fruits1\n"
     ]
    }
   ],
   "source": [
    "fruits1=['hello','world','sonu']\n",
    "if \"hello\" in fruits1:\n",
    "    print(\"hello is present in fruits1\")\n",
    "else:\n",
    "    print(\"not present\")\n"
   ]
  },
  {
   "cell_type": "code",
   "execution_count": 30,
   "metadata": {},
   "outputs": [
    {
     "name": "stdout",
     "output_type": "stream",
     "text": [
      "1\n"
     ]
    }
   ],
   "source": [
    "fruits1=['hello','world','sonu']\n",
    "print(fruits1.count('hello'))"
   ]
  },
  {
   "cell_type": "code",
   "execution_count": 31,
   "metadata": {},
   "outputs": [
    {
     "name": "stdout",
     "output_type": "stream",
     "text": [
      "['hello', 'sonu', 'world']\n"
     ]
    }
   ],
   "source": [
    "fruits1=['hello','world','sonu']\n",
    "fruits1.sort()\n",
    "print(fruits1)"
   ]
  },
  {
   "cell_type": "code",
   "execution_count": 32,
   "metadata": {},
   "outputs": [
    {
     "name": "stdout",
     "output_type": "stream",
     "text": [
      "['hello', 'sonu', 'world']\n"
     ]
    }
   ],
   "source": [
    "fruits1=['hello','world','sonu']\n",
    "print(sorted(fruits1))  "
   ]
  },
  {
   "cell_type": "code",
   "execution_count": 33,
   "metadata": {},
   "outputs": [
    {
     "name": "stdout",
     "output_type": "stream",
     "text": [
      "[]\n"
     ]
    }
   ],
   "source": [
    "fruits1=['hello','world','sonu']\n",
    "fruits1.clear()\n",
    "print(fruits1)"
   ]
  },
  {
   "cell_type": "code",
   "execution_count": 34,
   "metadata": {},
   "outputs": [
    {
     "name": "stdout",
     "output_type": "stream",
     "text": [
      "['hello', 'world', 'sonu']\n"
     ]
    }
   ],
   "source": [
    "fruits1=['hello','world','sonu']\n",
    "fruits_copy=fruits1.copy() \n",
    "print(fruits_copy)\n"
   ]
  },
  {
   "cell_type": "code",
   "execution_count": 35,
   "metadata": {},
   "outputs": [
    {
     "name": "stdout",
     "output_type": "stream",
     "text": [
      "True\n"
     ]
    }
   ],
   "source": [
    "fruits1=['hello','world','sonu','ashwani','kumar']\n",
    "fruits2=['hello','world','sonu','ashwani','kumar']\n",
    "print(fruits1==fruits2)     #values are equal"
   ]
  },
  {
   "cell_type": "code",
   "execution_count": 36,
   "metadata": {},
   "outputs": [
    {
     "name": "stdout",
     "output_type": "stream",
     "text": [
      "False\n"
     ]
    }
   ],
   "source": [
    "fruits1=['hello','world','sonu','ashwani','kumar']\n",
    "fruits2=['hello','world','sonu','ashwani','kumar']\n",
    "print(fruits1 is fruits2)   #different object references"
   ]
  },
  {
   "cell_type": "code",
   "execution_count": 39,
   "metadata": {},
   "outputs": [
    {
     "name": "stdout",
     "output_type": "stream",
     "text": [
      "Hello\n",
      "hello\n"
     ]
    }
   ],
   "source": [
    "s=\"hello\"\n",
    "t=s.title()\n",
    "print(t)\n",
    "print(s) #there will be no change in the original string"
   ]
  },
  {
   "cell_type": "code",
   "execution_count": 40,
   "metadata": {},
   "outputs": [
    {
     "name": "stdout",
     "output_type": "stream",
     "text": [
      "a\n",
      "b\n",
      "c\n",
      "d\n",
      "e\n"
     ]
    }
   ],
   "source": [
    "fruits=['a','b','c','d','e']\n",
    "for i in fruits:\n",
    "    print(i)\n"
   ]
  },
  {
   "cell_type": "code",
   "execution_count": 41,
   "metadata": {},
   "outputs": [
    {
     "name": "stdout",
     "output_type": "stream",
     "text": [
      "a\n",
      "b\n",
      "c\n",
      "d\n",
      "e\n"
     ]
    }
   ],
   "source": [
    "fruits=['a','b','c','d','e']\n",
    "i=0\n",
    "while i<len(fruits):\n",
    "    print(fruits[i])\n",
    "    i+=1"
   ]
  },
  {
   "cell_type": "code",
   "execution_count": 44,
   "metadata": {},
   "outputs": [
    {
     "name": "stdout",
     "output_type": "stream",
     "text": [
      "[1, 2, 3]\n"
     ]
    }
   ],
   "source": [
    "matrix=[[1,2,3],[4,5,6],[7,8,9]]\n",
    "print(matrix[0])\n"
   ]
  },
  {
   "cell_type": "code",
   "execution_count": 43,
   "metadata": {},
   "outputs": [
    {
     "name": "stdout",
     "output_type": "stream",
     "text": [
      "[1, 2, 3]\n",
      "[4, 5, 6]\n",
      "[7, 8, 9]\n"
     ]
    }
   ],
   "source": [
    "matrix=[[1,2,3],[4,5,6],[7,8,9]]\n",
    "for i in matrix:\n",
    "    print(i)"
   ]
  },
  {
   "cell_type": "code",
   "execution_count": 45,
   "metadata": {},
   "outputs": [
    {
     "name": "stdout",
     "output_type": "stream",
     "text": [
      "1\n",
      "2\n",
      "3\n",
      "4\n",
      "5\n",
      "6\n",
      "7\n",
      "8\n",
      "9\n"
     ]
    }
   ],
   "source": [
    "matrix=[[1,2,3],[4,5,6],[7,8,9]]\n",
    "for sublist in matrix:\n",
    "    for i in sublist:\n",
    "        print(i)"
   ]
  },
  {
   "cell_type": "code",
   "execution_count": 46,
   "metadata": {},
   "outputs": [
    {
     "name": "stdout",
     "output_type": "stream",
     "text": [
      "1\n",
      "5\n",
      "9\n"
     ]
    }
   ],
   "source": [
    "matrix=[[1,2,3],[4,5,6],[7,8,9]]\n",
    "print(matrix[0][0])\n",
    "print(matrix[1][1])\n",
    "print(matrix[2][2])\n",
    "\n"
   ]
  },
  {
   "cell_type": "code",
   "execution_count": 47,
   "metadata": {},
   "outputs": [
    {
     "name": "stdout",
     "output_type": "stream",
     "text": [
      "<class 'list'>\n"
     ]
    }
   ],
   "source": [
    "matrix=[[1,2,3],[4,5,6],[7,8,9]]\n",
    "print(type(matrix))"
   ]
  },
  {
   "cell_type": "code",
   "execution_count": 48,
   "metadata": {},
   "outputs": [
    {
     "name": "stdout",
     "output_type": "stream",
     "text": [
      "<class 'str'>\n"
     ]
    }
   ],
   "source": [
    "s=\"string\"\n",
    "print(type(s))"
   ]
  },
  {
   "cell_type": "code",
   "execution_count": 49,
   "metadata": {},
   "outputs": [
    {
     "name": "stdout",
     "output_type": "stream",
     "text": [
      "[1, 2, 3, 4, 5, 6, 7, 8, 9, 10]\n",
      "10\n"
     ]
    }
   ],
   "source": [
    "numbers=list(range(1,11))\n",
    "print(numbers)\n"
   ]
  },
  {
   "cell_type": "code",
   "execution_count": 50,
   "metadata": {},
   "outputs": [
    {
     "name": "stdout",
     "output_type": "stream",
     "text": [
      "10\n"
     ]
    }
   ],
   "source": [
    "numbers=list(range(1,11))\n",
    "popped_item=numbers.pop()\n",
    "print(popped_item)"
   ]
  },
  {
   "cell_type": "code",
   "execution_count": 51,
   "metadata": {},
   "outputs": [
    {
     "name": "stdout",
     "output_type": "stream",
     "text": [
      "0\n"
     ]
    }
   ],
   "source": [
    "numbers=list(range(20,40))\n",
    "print(numbers.index(20))"
   ]
  },
  {
   "cell_type": "code",
   "execution_count": 56,
   "metadata": {},
   "outputs": [
    {
     "name": "stdout",
     "output_type": "stream",
     "text": [
      "[-1, -2, -3, -4, -1, -3]\n"
     ]
    }
   ],
   "source": [
    "def negative_list(l):\n",
    "    negative=[]\n",
    "    for i in l:\n",
    "        negative.append(-i)\n",
    "    return negative\n",
    "numbers=[1,2,3,4,1,3]\n",
    "print(negative_list(numbers))\n"
   ]
  },
  {
   "cell_type": "code",
   "execution_count": 57,
   "metadata": {},
   "outputs": [
    {
     "name": "stdout",
     "output_type": "stream",
     "text": [
      "[1, 4, 9, 16, 25, 36, 49, 64, 81, 100]\n"
     ]
    }
   ],
   "source": [
    "def square_list(l):\n",
    "    square=[]\n",
    "    for i in l:\n",
    "        square.append(i**2)\n",
    "    return square\n",
    "numbers=list(range(1,11))\n",
    "print(square_list(numbers))"
   ]
  },
  {
   "cell_type": "code",
   "execution_count": 60,
   "metadata": {},
   "outputs": [
    {
     "name": "stdout",
     "output_type": "stream",
     "text": [
      "[4, 3, 2, 1]\n"
     ]
    }
   ],
   "source": [
    "def reverse_list(l):\n",
    "    l.reverse()\n",
    "    return l\n",
    "\n",
    "numbers=[1,2,3,4]\n",
    "print(reverse_list(numbers))\n"
   ]
  },
  {
   "cell_type": "code",
   "execution_count": 61,
   "metadata": {},
   "outputs": [
    {
     "name": "stdout",
     "output_type": "stream",
     "text": [
      "[4, 3, 2, 1]\n"
     ]
    }
   ],
   "source": [
    "def reverse_list(l):\n",
    "    return l[::-1]\n",
    "numbers=[1,2,3,4]\n",
    "print(reverse_list(numbers))"
   ]
  },
  {
   "cell_type": "code",
   "execution_count": 62,
   "metadata": {},
   "outputs": [
    {
     "name": "stdout",
     "output_type": "stream",
     "text": [
      "[4, 3, 2, 1]\n"
     ]
    }
   ],
   "source": [
    "def reverse_list(l):\n",
    "    r_list=[]\n",
    "    for i in range(len(l)):\n",
    "        popped_item=l.pop()\n",
    "        r_list.append(popped_item)\n",
    "    return r_list\n",
    "numbers=[1,2,3,4]\n",
    "print(reverse_list(numbers))\n"
   ]
  },
  {
   "cell_type": "code",
   "execution_count": 63,
   "metadata": {},
   "outputs": [
    {
     "name": "stdout",
     "output_type": "stream",
     "text": [
      "['cba', 'vut', 'zyx']\n"
     ]
    }
   ],
   "source": [
    "def reverse_elements(l):\n",
    "    elements=[]\n",
    "    for i in l:\n",
    "        elements.append(i[::-1])\n",
    "    return elements\n",
    "words=['abc','tuv','xyz']\n",
    "print(reverse_elements(words))\n"
   ]
  },
  {
   "cell_type": "code",
   "execution_count": 66,
   "metadata": {},
   "outputs": [
    {
     "name": "stdout",
     "output_type": "stream",
     "text": [
      "[[1, 3, 5, 7], [2, 4, 6]]\n"
     ]
    }
   ],
   "source": [
    "def filter_odd_even(l):\n",
    "    odd_nums=[]\n",
    "    even_nums=[]\n",
    "    for i in l:\n",
    "        if i%2==0:\n",
    "            even_nums.append(i)\n",
    "        else:\n",
    "            odd_nums.append(i)\n",
    "    output=[odd_nums, even_nums]\n",
    "    return output\n",
    "nums=[1,2,3,4,5,6,7]\n",
    "print(filter_odd_even(nums))\n"
   ]
  },
  {
   "cell_type": "code",
   "execution_count": 67,
   "metadata": {},
   "outputs": [
    {
     "name": "stdout",
     "output_type": "stream",
     "text": [
      "[1, 2]\n"
     ]
    }
   ],
   "source": [
    "def common_finder(l1,l2):\n",
    "    output=[]\n",
    "    for i in l1:\n",
    "        if i in l2:\n",
    "            output.append(i)\n",
    "    return output\n",
    "print(common_finder([1,2,5,8],[1,2,7,6]))\n"
   ]
  },
  {
   "cell_type": "code",
   "execution_count": 71,
   "metadata": {},
   "outputs": [
    {
     "name": "stdout",
     "output_type": "stream",
     "text": [
      "[6, 4, 3, 2, 8, 9]\n"
     ]
    }
   ],
   "source": [
    "numbers=[6,4,3,2]\n",
    "numbers.extend([8,9])\n",
    "print(numbers)\n"
   ]
  },
  {
   "cell_type": "code",
   "execution_count": 72,
   "metadata": {},
   "outputs": [
    {
     "name": "stdout",
     "output_type": "stream",
     "text": [
      "[6, 'inserted', 4, 3, 2]\n"
     ]
    }
   ],
   "source": [
    "numbers=[6,4,3,2]\n",
    "numbers.insert(1,\"inserted\")\n",
    "print(numbers)"
   ]
  },
  {
   "cell_type": "code",
   "execution_count": 75,
   "metadata": {},
   "outputs": [
    {
     "name": "stdout",
     "output_type": "stream",
     "text": [
      "4\n"
     ]
    }
   ],
   "source": [
    "numbers=[6,4,3,2]\n",
    "def greatest_diff(l):\n",
    "    return max(l)-min(l)\n",
    "print(greatest_diff(numbers))\n"
   ]
  },
  {
   "cell_type": "code",
   "execution_count": 74,
   "metadata": {},
   "outputs": [
    {
     "name": "stdout",
     "output_type": "stream",
     "text": [
      "2\n",
      "6\n"
     ]
    }
   ],
   "source": [
    "numbers=[6,4,3,2]\n",
    "print(min(numbers))\n",
    "print(max(numbers))"
   ]
  },
  {
   "cell_type": "code",
   "execution_count": 76,
   "metadata": {},
   "outputs": [
    {
     "name": "stdout",
     "output_type": "stream",
     "text": [
      "2\n"
     ]
    }
   ],
   "source": [
    "def sublist_counter(l):\n",
    "    count=0\n",
    "    for i in l:\n",
    "        if type(i)==list:\n",
    "            count+=1\n",
    "    return count\n",
    "mixed=[1,2,3,[1,2],[3,4]]\n",
    "print(sublist_counter(mixed))"
   ]
  },
  {
   "cell_type": "code",
   "execution_count": 77,
   "metadata": {},
   "outputs": [
    {
     "name": "stdout",
     "output_type": "stream",
     "text": [
      "one\n",
      "two\n",
      "three\n"
     ]
    }
   ],
   "source": [
    "example=('one','two','three')\n",
    "for i in example:\n",
    "    print(i)"
   ]
  },
  {
   "cell_type": "code",
   "execution_count": 79,
   "metadata": {},
   "outputs": [
    {
     "name": "stdout",
     "output_type": "stream",
     "text": [
      "<class 'int'>\n",
      "<class 'tuple'>\n",
      "<class 'str'>\n",
      "<class 'tuple'>\n"
     ]
    }
   ],
   "source": [
    "l=(1)\n",
    "print(type(l))\n",
    "\n",
    "l=(1,)\n",
    "print(type(l))\n",
    "\n",
    "l=('words')\n",
    "print(type(l))\n",
    "\n",
    "l=('words',)\n",
    "print(type(l))\n"
   ]
  },
  {
   "cell_type": "code",
   "execution_count": 80,
   "metadata": {},
   "outputs": [
    {
     "name": "stdout",
     "output_type": "stream",
     "text": [
      "<class 'tuple'>\n"
     ]
    }
   ],
   "source": [
    "guitars= 'hello', 'world', 'this'\n",
    "print(type(guitars))"
   ]
  },
  {
   "cell_type": "code",
   "execution_count": 81,
   "metadata": {},
   "outputs": [
    {
     "name": "stdout",
     "output_type": "stream",
     "text": [
      "ashwani\n",
      "kumar\n",
      "sonu\n"
     ]
    }
   ],
   "source": [
    "g=('ashwani','kumar','sonu')\n",
    "g1,g2,g3=(g)\n",
    "print(g1)\n",
    "print(g2)\n",
    "print(g3)"
   ]
  },
  {
   "cell_type": "code",
   "execution_count": 82,
   "metadata": {},
   "outputs": [
    {
     "name": "stdout",
     "output_type": "stream",
     "text": [
      "('southern magnolia', ['tokyo ghoul theme', 'we made it'])\n"
     ]
    }
   ],
   "source": [
    "f=('southern magnolia',['tokyo ghoul theme','landscape'])\n",
    "f[1].pop()\n",
    "f[1].append(\"we made it\")\n",
    "print(f)\n"
   ]
  },
  {
   "cell_type": "code",
   "execution_count": 83,
   "metadata": {},
   "outputs": [
    {
     "name": "stdout",
     "output_type": "stream",
     "text": [
      "0\n",
      "3\n",
      "6\n",
      "4\n"
     ]
    }
   ],
   "source": [
    "l=(0,1,2,3)\n",
    "print(min(l))\n",
    "print(max(l))\n",
    "print(sum(l))\n",
    "print(len(l))\n"
   ]
  },
  {
   "cell_type": "code",
   "execution_count": 87,
   "metadata": {},
   "outputs": [
    {
     "name": "stdout",
     "output_type": "stream",
     "text": [
      "enter a:1\n",
      "enter b:2\n",
      "3\n",
      "2\n",
      "0.5\n"
     ]
    }
   ],
   "source": [
    "def func(int1,int2):\n",
    "\tadd=int1+int2\n",
    "\tmul=int1*int2\n",
    "\tdiv=int1/int2\n",
    "\treturn add,mul,div\n",
    "add,multiply,divide=func(int(input(\"enter a:\")),int(input(\"enter b:\")))\n",
    "print(add)\n",
    "print(multiply)\n",
    "print(divide)"
   ]
  },
  {
   "cell_type": "code",
   "execution_count": 89,
   "metadata": {},
   "outputs": [
    {
     "name": "stdout",
     "output_type": "stream",
     "text": [
      "[1, 2, 3, 4, 5, 6, 7, 8, 9, 10]\n",
      "(1, 2, 3, 4, 5, 6, 7, 8, 9, 10)\n"
     ]
    }
   ],
   "source": [
    "print(list(range(1,11)))\n",
    "print(tuple(range(1,11)))"
   ]
  },
  {
   "cell_type": "code",
   "execution_count": 95,
   "metadata": {},
   "outputs": [
    {
     "name": "stdout",
     "output_type": "stream",
     "text": [
      "[1, 2, 3, 4, 5]\n",
      "<class 'str'>\n"
     ]
    }
   ],
   "source": [
    "nums=(1,2,3,4,5)\n",
    "nums=list(nums)\n",
    "nums=str(nums)\n",
    "print(nums)\n",
    "print(type(nums))"
   ]
  },
  {
   "cell_type": "code",
   "execution_count": 97,
   "metadata": {},
   "outputs": [
    {
     "name": "stdout",
     "output_type": "stream",
     "text": [
      "[1, 2, 3]\n",
      "<class 'str'>\n"
     ]
    }
   ],
   "source": [
    "numlist=str([1,2,3])\n",
    "print(numlist)\n",
    "print(type(numlist))"
   ]
  },
  {
   "cell_type": "code",
   "execution_count": 99,
   "metadata": {},
   "outputs": [
    {
     "name": "stdout",
     "output_type": "stream",
     "text": [
      "(1, 2, 3, 4, 5, [1, 2])\n"
     ]
    }
   ],
   "source": [
    "mixed2=(1,2,3,4,5,[1,2,3])\n",
    "mixed2[5].pop()\n",
    "print(mixed2)"
   ]
  },
  {
   "cell_type": "code",
   "execution_count": 100,
   "metadata": {},
   "outputs": [
    {
     "name": "stdout",
     "output_type": "stream",
     "text": [
      "{'name': 'harshit', 'age': 24}\n",
      "<class 'dict'>\n"
     ]
    }
   ],
   "source": [
    "user={'name':'harshit','age':24}\n",
    "print(user)\n",
    "print(type(user))\n"
   ]
  },
  {
   "cell_type": "code",
   "execution_count": 101,
   "metadata": {},
   "outputs": [
    {
     "name": "stdout",
     "output_type": "stream",
     "text": [
      "{'name': 'harshit', 'age': 24}\n",
      "harshit\n",
      "24\n"
     ]
    }
   ],
   "source": [
    "user1=dict(name='harshit',age=24)\n",
    "print(user1)\n",
    "print(user1['name'])\n",
    "print(user1['age'])\n"
   ]
  },
  {
   "cell_type": "code",
   "execution_count": 102,
   "metadata": {},
   "outputs": [
    {
     "name": "stdout",
     "output_type": "stream",
     "text": [
      "{'name': 'harshit', 'age': 24, 'fav_movies': ['hello', 'world'], 'fav_tunes': ['ashwani', 'kumar']}\n",
      "['hello', 'world']\n"
     ]
    }
   ],
   "source": [
    "user_info={\n",
    "\t'name':'harshit',\n",
    "\t'age':24,\n",
    "\t'fav_movies':['hello','world'],\n",
    "\t'fav_tunes':['ashwani','kumar']\n",
    "\t}\n",
    "print(user_info)\n",
    "print(user_info['fav_movies'])"
   ]
  },
  {
   "cell_type": "code",
   "execution_count": 108,
   "metadata": {},
   "outputs": [
    {
     "name": "stdout",
     "output_type": "stream",
     "text": [
      "{'name': 'mohit', 'age': 19}\n"
     ]
    }
   ],
   "source": [
    "user_info={}\n",
    "user_info['name']='mohit'\n",
    "user_info['age']=19\n",
    "print(user_info)"
   ]
  },
  {
   "cell_type": "code",
   "execution_count": 109,
   "metadata": {},
   "outputs": [
    {
     "name": "stdout",
     "output_type": "stream",
     "text": [
      "present\n"
     ]
    }
   ],
   "source": [
    "info2={\n",
    "\t'name':'harshit',\n",
    "\t'age':24,\n",
    "\t'fav_movies':['hello','world'],\n",
    "\t'fav_tunes':['ashwani','kumar']\n",
    "\t}\n",
    "if 'name' in info2:\n",
    "\tprint('present')\n",
    "else:\n",
    "\tprint('not present')"
   ]
  },
  {
   "cell_type": "code",
   "execution_count": 110,
   "metadata": {},
   "outputs": [
    {
     "name": "stdout",
     "output_type": "stream",
     "text": [
      "present\n"
     ]
    }
   ],
   "source": [
    "info2={\n",
    "\t'name':'harshit',\n",
    "\t'age':24,\n",
    "\t'fav_movies':['hello','world'],\n",
    "\t'fav_tunes':['ashwani','kumar']\n",
    "\t}\n",
    "if 'harshit' in info2.values():\n",
    "\tprint('present')\n",
    "else:\n",
    "\tprint('not present')\n"
   ]
  },
  {
   "cell_type": "code",
   "execution_count": 111,
   "metadata": {},
   "outputs": [
    {
     "name": "stdout",
     "output_type": "stream",
     "text": [
      "present\n"
     ]
    }
   ],
   "source": [
    "info2={\n",
    "\t'name':'harshit',\n",
    "\t'age':24,\n",
    "\t'fav_movies':['hello','world'],\n",
    "\t'fav_tunes':['ashwani','kumar']\n",
    "\t}\n",
    "if 24 in info2.values():\n",
    "\tprint('present')\n",
    "else:\n",
    "\tprint('not present')\n"
   ]
  },
  {
   "cell_type": "code",
   "execution_count": 112,
   "metadata": {},
   "outputs": [
    {
     "name": "stdout",
     "output_type": "stream",
     "text": [
      "present\n"
     ]
    }
   ],
   "source": [
    "info2={\n",
    "\t'name':'harshit',\n",
    "\t'age':24,\n",
    "\t'fav_movies':['hello','world'],\n",
    "\t'fav_tunes':['ashwani','kumar']\n",
    "\t}\n",
    "\n",
    "if ['hello','world'] in info2.values():\n",
    "\tprint('present')\n",
    "else:\n",
    "\tprint('not present')"
   ]
  },
  {
   "cell_type": "code",
   "execution_count": 116,
   "metadata": {},
   "outputs": [
    {
     "name": "stdout",
     "output_type": "stream",
     "text": [
      "name\n",
      "age\n",
      "fav_movies\n",
      "fav_tunes\n",
      "harshit\n",
      "24\n",
      "['hello', 'world']\n",
      "['ashwani', 'kumar']\n",
      "dict_values(['harshit', 24, ['hello', 'world'], ['ashwani', 'kumar']])\n",
      "<class 'dict_values'>\n",
      "dict_keys(['name', 'age', 'fav_movies', 'fav_tunes'])\n",
      "<class 'dict_keys'>\n",
      "dict_items([('name', 'harshit'), ('age', 24), ('fav_movies', ['hello', 'world']), ('fav_tunes', ['ashwani', 'kumar'])])\n",
      "<class 'dict_items'>\n"
     ]
    }
   ],
   "source": [
    "info2={\n",
    "\t'name':'harshit',\n",
    "\t'age':24,\n",
    "\t'fav_movies':['hello','world'],\n",
    "\t'fav_tunes':['ashwani','kumar']\n",
    "\t}\n",
    "\n",
    "for i in info2:\n",
    "\tprint(i)\n",
    "for i in info2.values():\n",
    "\tprint(i)\n",
    "\n",
    "user_values=info2.values()\n",
    "print(user_values)\n",
    "print(type(user_values))\n",
    "\n",
    "user_values=info2.keys()\n",
    "print(user_values)\n",
    "print(type(user_values))\n",
    "\n",
    "user_values=info2.items()\n",
    "print(user_values)\n",
    "print(type(user_values))\n"
   ]
  },
  {
   "cell_type": "code",
   "execution_count": 117,
   "metadata": {},
   "outputs": [
    {
     "name": "stdout",
     "output_type": "stream",
     "text": [
      "key is name and value is harshit\n",
      "key is age and value is 24\n",
      "key is fav_movies and value is ['hello', 'world']\n",
      "key is fav_tunes and value is ['ashwani', 'kumar']\n"
     ]
    }
   ],
   "source": [
    "info2={\n",
    "\t'name':'harshit',\n",
    "\t'age':24,\n",
    "\t'fav_movies':['hello','world'],\n",
    "\t'fav_tunes':['ashwani','kumar']\n",
    "\t}\n",
    "for key,value in info2.items():\n",
    "\tprint(f\"key is {key} and value is {value}\")\n"
   ]
  },
  {
   "cell_type": "code",
   "execution_count": 118,
   "metadata": {},
   "outputs": [
    {
     "name": "stdout",
     "output_type": "stream",
     "text": [
      "{'name': 'ashwani', 'age': '24', 'skills': ['c', 'c++', 'java', 'python', 'html', 'css', 'bootstrap', 'php', 'sql']}\n",
      "{'name': 'ashwani', 'age': '24', 'skills': ['sass', 'csharp']}\n",
      "{'name': 'ashwani', 'age': '24', 'skills': ['sass', 'csharp'], 'hobbies': ['games', 'programming', 'songs', 'cricket']}\n"
     ]
    }
   ],
   "source": [
    "# user_info={\n",
    "\t'name':'ashwani',\n",
    "\t'age':'24',\n",
    "\t'skills':['c','c++','java','python','html','css','bootstrap','php','sql']\n",
    "\t}\n",
    "print(user_info)\n",
    "user_info['skills']=['sass','csharp']\n",
    "# print(user_info)\n",
    "user_info['hobbies']=['games','programming','songs','cricket']\n",
    "print(user_info)\n"
   ]
  },
  {
   "cell_type": "code",
   "execution_count": 4,
   "metadata": {},
   "outputs": [
    {
     "name": "stdout",
     "output_type": "stream",
     "text": [
      "{'name': 'unknown', 'hobbies': 'unknown'}\n",
      "{'name': 'unknown', 'hobbies': 'unknown'}\n",
      "{'1': 'unknown', '2': 'unknown', '3': 'unknown'}\n",
      "{'x': 'unknown', 'y': 'unknown', 'z': 'unknown'}\n",
      "{1: 'unknown', 2: 'unknown', 3: 'unknown', 4: 'unknown', 5: 'unknown', 6: 'unknown', 7: 'unknown', 8: 'unknown', 9: 'unknown', 10: 'unknown'}\n",
      "{'names': ['unknown', 'unknown'], 'age': ['unknown', 'unknown']}\n"
     ]
    }
   ],
   "source": [
    "d=dict.fromkeys(['name','hobbies'],'unknown')\n",
    "print(d)\n",
    "\n",
    "d=dict.fromkeys(('name','hobbies'),'unknown')\n",
    "print(d)\n",
    "\n",
    "d=dict.fromkeys(('123'),'unknown')\n",
    "print(d)\n",
    "\n",
    "d=dict.fromkeys(('xyz'),'unknown')\n",
    "print(d)\n",
    "\n",
    "d=dict.fromkeys(range(1,11),'unknown')\n",
    "print(d)\n",
    "\n",
    "d=dict.fromkeys(['names','age'],['unknown','unknown'])\n",
    "print(d)\n"
   ]
  },
  {
   "cell_type": "code",
   "execution_count": 5,
   "metadata": {},
   "outputs": [
    {
     "name": "stdout",
     "output_type": "stream",
     "text": [
      "None\n",
      "ashwani\n"
     ]
    }
   ],
   "source": [
    "new_info={ \n",
    "\t'name':'ashwani',\n",
    "\t'age':'24',\n",
    "\t'skills':['c','c++','java','python','html','css','bootstrap','php','sql']\n",
    "\t}\n",
    "print(new_info.get('names')) #return None\n",
    "print(new_info.get('name')) \n"
   ]
  },
  {
   "cell_type": "code",
   "execution_count": 6,
   "metadata": {},
   "outputs": [
    {
     "name": "stdout",
     "output_type": "stream",
     "text": [
      "it is not present\n"
     ]
    }
   ],
   "source": [
    "new_info={ \n",
    "\t'name':'ashwani',\n",
    "\t'age':'24',\n",
    "\t'skills':['c','c++','java','python','html','css','bootstrap','php','sql']\n",
    "\t}\n",
    "if new_info.get('names'):\n",
    "\tprint(\"present\")\n",
    "else:\n",
    "\tprint(\"it is not present\")"
   ]
  },
  {
   "cell_type": "code",
   "execution_count": 7,
   "metadata": {},
   "outputs": [
    {
     "name": "stdout",
     "output_type": "stream",
     "text": [
      "{}\n"
     ]
    }
   ],
   "source": [
    "info={ \n",
    "\t'name':'ashwani',\n",
    "\t'age':'24',\n",
    "\t'skills':['c','c++','java','python','html','css','bootstrap','php','sql']\n",
    "\t}\n",
    "info.clear()\n",
    "print(info)\n"
   ]
  },
  {
   "cell_type": "code",
   "execution_count": 8,
   "metadata": {},
   "outputs": [
    {
     "name": "stdout",
     "output_type": "stream",
     "text": [
      "{'name': 'ashwani', 'age': '24', 'skills': ['c', 'c++', 'java', 'python', 'html', 'css', 'bootstrap', 'php', 'sql']}\n",
      "False\n"
     ]
    }
   ],
   "source": [
    "info1={ \n",
    "\t'name':'ashwani',\n",
    "\t'age':'24',\n",
    "\t'skills':['c','c++','java','python','html','css','bootstrap','php','sql']\n",
    "\t}\n",
    "info2=info1.copy()\n",
    "print(info2)\n",
    "print(info1 is info2)\n"
   ]
  },
  {
   "cell_type": "code",
   "execution_count": 9,
   "metadata": {},
   "outputs": [
    {
     "name": "stdout",
     "output_type": "stream",
     "text": [
      "{'name': 'ashwani', 'age': '24', 'skills': ['c', 'c++', 'java', 'python', 'html', 'css', 'bootstrap', 'php', 'sql']}\n",
      "{'name': 'ashwani', 'age': '24', 'skills': ['c', 'c++', 'java', 'python', 'html', 'css', 'bootstrap', 'php', 'sql']}\n",
      "{}\n",
      "{}\n",
      "True\n"
     ]
    }
   ],
   "source": [
    "info1={ \n",
    "\t'name':'ashwani',\n",
    "\t'age':'24',\n",
    "\t'skills':['c','c++','java','python','html','css','bootstrap','php','sql']\n",
    "\t}\n",
    "info2=info1\n",
    "print(info1)\n",
    "print(info2)\n",
    "info1.clear()\n",
    "print(info1)\n",
    "print(info2)\n",
    "print(info2 is info1)"
   ]
  },
  {
   "cell_type": "code",
   "execution_count": 17,
   "metadata": {},
   "outputs": [
    {
     "name": "stdout",
     "output_type": "stream",
     "text": [
      "key not found!\n",
      "23\n"
     ]
    }
   ],
   "source": [
    "info1={ \n",
    "\t'name':'ashwani',\n",
    "\t'age':'24',\n",
    "\t'age':'23',\n",
    "\t'skills':['c','c++','java','python','html','css','bootstrap','php','sql']\n",
    "\t}\n",
    "print(info1.get('names','key not found!'))\n",
    "print(info1.get('age','key not found!'))"
   ]
  },
  {
   "cell_type": "code",
   "execution_count": 18,
   "metadata": {},
   "outputs": [
    {
     "name": "stdout",
     "output_type": "stream",
     "text": [
      "{'name': 'ashwani', 'age': '23', 'skills': ['c', 'c++', 'java', 'python', 'html', 'css', 'bootstrap', 'php', 'sql']}\n"
     ]
    }
   ],
   "source": [
    "info1={ \n",
    "\t'name':'ashwani',\n",
    "\t'age':'24',\n",
    "\t'age':'23',\n",
    "\t'skills':['c','c++','java','python','html','css','bootstrap','php','sql']\n",
    "\t}\n",
    "print(info1)\t#later key-value will overwrite first key value\n"
   ]
  },
  {
   "cell_type": "code",
   "execution_count": 19,
   "metadata": {},
   "outputs": [
    {
     "name": "stdout",
     "output_type": "stream",
     "text": [
      "{'a': 3, 's': 1, 'h': 1, 'w': 1, 'n': 1, 'i': 1, 'k': 1, 'u': 1, 'm': 1, 'r': 1}\n"
     ]
    }
   ],
   "source": [
    "def word_counter(s):\n",
    "\td={}\n",
    "\tfor i in s:\t\t#each character comes in i\n",
    "\t\td[i]=s.count(i)\t#count the character in string\n",
    "\treturn d\n",
    "print(word_counter(\"ashwanikumar\"))"
   ]
  },
  {
   "cell_type": "code",
   "execution_count": 23,
   "metadata": {},
   "outputs": [
    {
     "name": "stdout",
     "output_type": "stream",
     "text": [
      "enter your name:ashwani kumar\n",
      "enter your age:24\n",
      "enter your hobbies:cricket,football\n",
      "{'name': 'ashwani kumar', 'age': '24', 'hobbies': ['cricket', 'football']}\n",
      "name:ashwani kumar\n",
      "age:24\n",
      "hobbies:['cricket', 'football']\n"
     ]
    }
   ],
   "source": [
    "mydetails={}\n",
    "name=input(\"enter your name:\")\n",
    "age=input(\"enter your age:\")\n",
    "hobbies=input(\"enter your hobbies:\").split(',')\n",
    "mydetails['name']=name\n",
    "mydetails['age']=age\n",
    "mydetails['hobbies']=hobbies\n",
    "print(mydetails)\n",
    "for key,value in mydetails.items():\n",
    "\tprint(f\"{key}:{value}\")"
   ]
  },
  {
   "cell_type": "code",
   "execution_count": 37,
   "metadata": {},
   "outputs": [
    {
     "name": "stdout",
     "output_type": "stream",
     "text": [
      "[1, 2, 3, 4, 5]\n",
      "{1, 2, 3, 4, 5}\n",
      "{1, 2, 3, 4, 5}\n",
      "{1, 2, 3, 4, 5}\n",
      "{1, 2, 3, 4, 5, 9}\n",
      "{1, 2, 3, 4, 5}\n",
      "{1, 2, 3, 5}\n"
     ]
    }
   ],
   "source": [
    "s={1,2,3,4,5,1,2,3,2}\t\t#sets are unordered collection\n",
    "l=list(s)\n",
    "print(l)\n",
    "s=set(l)\n",
    "print(s)\n",
    "s.add(4)\n",
    "print(s)\n",
    "s.add(5)\n",
    "print(s)\n",
    "s.add(9)\n",
    "print(s)\n",
    "s.remove(9)     #if key is not availabe then it will show error\n",
    "print(s)\n",
    "s.discard(4)    #it will not show errors  if keys not available\n",
    "print(s)"
   ]
  },
  {
   "cell_type": "code",
   "execution_count": 39,
   "metadata": {},
   "outputs": [
    {
     "name": "stdout",
     "output_type": "stream",
     "text": [
      "set()\n",
      "set()\n"
     ]
    }
   ],
   "source": [
    "s={1,2,3,4,5,1,2,3,2}\t\t#sets are unordered collection\n",
    "s.clear()\n",
    "print(s)\n",
    "s1=s.copy()\n",
    "print(s1)\n"
   ]
  },
  {
   "cell_type": "code",
   "execution_count": 40,
   "metadata": {},
   "outputs": [
    {
     "name": "stdout",
     "output_type": "stream",
     "text": [
      "{2.3, 1, 'string'}\n"
     ]
    }
   ],
   "source": [
    "s={1,1.0,2.3,'string'}\t#order not matters\n",
    "print(s)"
   ]
  },
  {
   "cell_type": "code",
   "execution_count": 41,
   "metadata": {},
   "outputs": [
    {
     "name": "stdout",
     "output_type": "stream",
     "text": [
      "present\n",
      "b\n",
      "c\n",
      "a\n"
     ]
    }
   ],
   "source": [
    "s={'a','b','c'}\n",
    "if 'a' in s:\n",
    "\tprint(\"present\")\n",
    "else:\n",
    "\tprint(\"not present\")\n",
    "for i in s:\n",
    "\tprint(i)"
   ]
  },
  {
   "cell_type": "code",
   "execution_count": 42,
   "metadata": {},
   "outputs": [
    {
     "name": "stdout",
     "output_type": "stream",
     "text": [
      "{1, 2, 3, 4, 5, 65, 6}\n",
      "{4, 5}\n"
     ]
    }
   ],
   "source": [
    "s1={1,2,3,4,5}\n",
    "s2={4,5,65,6}\n",
    "union_set=s1|s2\n",
    "print(union_set)\n",
    "intersection_set=s1&s2\n",
    "print(intersection_set)"
   ]
  },
  {
   "cell_type": "code",
   "execution_count": 47,
   "metadata": {},
   "outputs": [
    {
     "name": "stdout",
     "output_type": "stream",
     "text": [
      "[1, 4, 9, 16, 25, 36, 49, 64, 81, 100]\n",
      "[1, 4, 9, 16, 25, 36, 49, 64, 81, 100]\n"
     ]
    }
   ],
   "source": [
    "squares=[]\n",
    "for i in range(1,11):\n",
    "\tsquares.append(i**2)\n",
    "print(squares)\n",
    "# or\n",
    "square2=[i**2 for i in range(1,11)]\n",
    "print(square2)"
   ]
  },
  {
   "cell_type": "code",
   "execution_count": 49,
   "metadata": {},
   "outputs": [
    {
     "name": "stdout",
     "output_type": "stream",
     "text": [
      "[-1, -2, -3, -4, -5, -6, -7, -8, -9, -10]\n",
      "[-1, -2, -3, -4, -5, -6, -7, -8, -9, -10]\n"
     ]
    }
   ],
   "source": [
    "negative=[]\n",
    "for i in range(1,11):\n",
    "\tnegative.append(-i)\n",
    "print(negative)\n",
    "# or\n",
    "new_negative=[-i for i in range(1,11)]\n",
    "print(new_negative)"
   ]
  },
  {
   "cell_type": "code",
   "execution_count": 52,
   "metadata": {},
   "outputs": [
    {
     "name": "stdout",
     "output_type": "stream",
     "text": [
      "['h', 'm', 'r']\n",
      "['h', 'm', 'r']\n"
     ]
    }
   ],
   "source": [
    "names=['harshit','mohit','rohit']\n",
    "new_list1=[]\n",
    "new_list2=[]\n",
    "for name in names:\n",
    "\tnew_list1.append(name[0])\n",
    "print(new_list1)\n",
    "# or\n",
    "new_list2=[name[0] for name in names]\n",
    "print(new_list2)\n"
   ]
  },
  {
   "cell_type": "code",
   "execution_count": 56,
   "metadata": {},
   "outputs": [
    {
     "name": "stdout",
     "output_type": "stream",
     "text": [
      "['cba', 'vut', 'zyx']\n",
      "['cba', 'vut', 'zyx']\n"
     ]
    }
   ],
   "source": [
    "def reverse_str(l):\n",
    "\tnew_list=[]\n",
    "\tfor name in l:\n",
    "\t\tnew_list.append(name[::-1])\n",
    "\treturn new_list\n",
    "print(reverse_str(['abc','tuv','xyz']))\n",
    "\n",
    "# or\n",
    "\n",
    "def reverse_strings(l):\n",
    "\treturn [name[::-1] for name in l]\n",
    "print(reverse_strings(['abc','tuv','xyz']))"
   ]
  },
  {
   "cell_type": "code",
   "execution_count": 60,
   "metadata": {},
   "outputs": [
    {
     "name": "stdout",
     "output_type": "stream",
     "text": [
      "[2, 4, 6, 8, 10]\n",
      "[2, 4, 6, 8, 10]\n",
      "[1, 3, 5, 7, 9]\n"
     ]
    }
   ],
   "source": [
    "numbers=list(range(1,11))\n",
    "nums=[]\n",
    "for i in numbers:\n",
    "\tif i%2==0:\n",
    "\t\tnums.append(i)\n",
    "print(nums)\n",
    "\n",
    "# or\n",
    "\n",
    "print([i for i in numbers if i%2==0])\n",
    "print([i for i in range(1,11) if i%2!=0])"
   ]
  },
  {
   "cell_type": "code",
   "execution_count": 61,
   "metadata": {},
   "outputs": [
    {
     "name": "stdout",
     "output_type": "stream",
     "text": [
      "['1', '1.0', '3']\n"
     ]
    }
   ],
   "source": [
    "def num_to_string(l):\n",
    "\treturn [str(i) for i in l if (type(i)==int or type(i)==float)]\n",
    "\n",
    "print(num_to_string([True, False, [1,2,3],1,1.0,3]))\n"
   ]
  },
  {
   "cell_type": "code",
   "execution_count": 65,
   "metadata": {},
   "outputs": [
    {
     "name": "stdout",
     "output_type": "stream",
     "text": [
      "[-1, 4, -3, 8, -5]\n",
      "[-1, 4, -3, 8, -5, 12, -7, 16, -9]\n"
     ]
    }
   ],
   "source": [
    "nums=[1,2,3,4,5]\n",
    "new_list=[]\n",
    "for i in nums:\n",
    "\tif i%2==0:\n",
    "\t\tnew_list.append(i*2)\n",
    "\telse:\n",
    "\t\tnew_list.append(-i)\n",
    "print(new_list)\n",
    "\n",
    "# or\n",
    "\n",
    "nums=[1,2,3,4,5,6,7,8,9]\n",
    "new_list2=[i*2 if (i%2==0) else -i for i in nums]\n",
    "print(new_list2)"
   ]
  },
  {
   "cell_type": "code",
   "execution_count": 70,
   "metadata": {},
   "outputs": [
    {
     "name": "stdout",
     "output_type": "stream",
     "text": [
      "[[1, 2, 3], [1, 2, 3], [1, 2, 3]]\n",
      "[[1, 2, 3], [1, 2, 3], [1, 2, 3]]\n"
     ]
    }
   ],
   "source": [
    "new_list=[]\n",
    "for j in range(3):\n",
    "\tnew_list.append([1,2,3])\n",
    "print(new_list)\n",
    "\n",
    "# or\n",
    "\n",
    "print([[i for i in range(1,4)] for j in range(0,3)])"
   ]
  },
  {
   "cell_type": "code",
   "execution_count": 72,
   "metadata": {},
   "outputs": [
    {
     "name": "stdout",
     "output_type": "stream",
     "text": [
      "{1: 1, 2: 4, 3: 9, 4: 16, 5: 25, 6: 36, 7: 49, 8: 64, 9: 81, 10: 100}\n"
     ]
    }
   ],
   "source": [
    "print({num:num**2 for num in range(1,11)})"
   ]
  },
  {
   "cell_type": "code",
   "execution_count": 75,
   "metadata": {},
   "outputs": [
    {
     "name": "stdout",
     "output_type": "stream",
     "text": [
      "{'square of 1 is': 1, 'square of 2 is': 4, 'square of 3 is': 9, 'square of 4 is': 16, 'square of 5 is': 25, 'square of 6 is': 36, 'square of 7 is': 49, 'square of 8 is': 64, 'square of 9 is': 81, 'square of 10 is': 100}\n",
      "square of 1 is:1\n",
      "square of 2 is:4\n",
      "square of 3 is:9\n",
      "square of 4 is:16\n",
      "square of 5 is:25\n",
      "square of 6 is:36\n",
      "square of 7 is:49\n",
      "square of 8 is:64\n",
      "square of 9 is:81\n",
      "square of 10 is:100\n"
     ]
    }
   ],
   "source": [
    "square={f\"square of {num} is\":num**2 for num in range(1,11)}\n",
    "print(square)\n",
    "\n",
    "for k,v in square.items():\n",
    "\tprint(f\"{k}:{v}\")\n"
   ]
  },
  {
   "cell_type": "code",
   "execution_count": 78,
   "metadata": {},
   "outputs": [
    {
     "name": "stdout",
     "output_type": "stream",
     "text": [
      "{'a': 2, 's': 1, 'h': 1, 'w': 1, 'n': 1, 'i': 1}\n"
     ]
    }
   ],
   "source": [
    "string=\"ashwani\"\n",
    "word_count={char:string.count(char) for char in string}\n",
    "print(word_count)"
   ]
  },
  {
   "cell_type": "code",
   "execution_count": 81,
   "metadata": {},
   "outputs": [
    {
     "name": "stdout",
     "output_type": "stream",
     "text": [
      "{1: 'odd', 2: 'even', 3: 'odd', 4: 'even', 5: 'odd', 6: 'even', 7: 'odd', 8: 'even', 9: 'odd', 10: 'even'}\n"
     ]
    }
   ],
   "source": [
    "odd_even={i:('even' if i%2==0 else 'odd') for i in range(1,11)}\n",
    "print(odd_even)"
   ]
  },
  {
   "cell_type": "code",
   "execution_count": 84,
   "metadata": {},
   "outputs": [
    {
     "name": "stdout",
     "output_type": "stream",
     "text": [
      "{64, 1, 4, 36, 100, 9, 16, 49, 81, 25}\n"
     ]
    }
   ],
   "source": [
    "s={k**2 for k in range(1,11)}\t#order does not matter in set\n",
    "print(s)"
   ]
  },
  {
   "cell_type": "code",
   "execution_count": 85,
   "metadata": {},
   "outputs": [
    {
     "name": "stdout",
     "output_type": "stream",
     "text": [
      "{'m', 'h', 'r'}\n"
     ]
    }
   ],
   "source": [
    "names=['harshit','mohit','rohit']\n",
    "first={name[0] for name in names}\n",
    "print(first)\n"
   ]
  },
  {
   "cell_type": "code",
   "execution_count": 86,
   "metadata": {},
   "outputs": [
    {
     "name": "stdout",
     "output_type": "stream",
     "text": [
      "(1, 2, 3, 4, 5)\n",
      "<class 'tuple'>\n"
     ]
    }
   ],
   "source": [
    "def arguments(*args):\n",
    "\tprint(args)\n",
    "\tprint(type(args))\n",
    "arguments(1,2,3,4,5)\n"
   ]
  },
  {
   "cell_type": "code",
   "execution_count": 90,
   "metadata": {},
   "outputs": [
    {
     "name": "stdout",
     "output_type": "stream",
     "text": [
      "10\n"
     ]
    }
   ],
   "source": [
    "def all_total(*args):\n",
    "\ttotal=0\n",
    "\tfor num in args:\n",
    "\t\ttotal+=num\n",
    "\treturn total\n",
    "print(all_total(1,2,3,4))"
   ]
  },
  {
   "cell_type": "code",
   "execution_count": 91,
   "metadata": {},
   "outputs": [
    {
     "name": "stdout",
     "output_type": "stream",
     "text": [
      "1\n",
      "(3, 2, 2, 2)\n",
      "24\n"
     ]
    }
   ],
   "source": [
    "def multiply_nums(num,*args):\n",
    "\tmultiply=1\n",
    "\tprint(num)\n",
    "\tprint(args)\n",
    "\tfor i in args:\n",
    "\t\tmultiply*=i\n",
    "\treturn multiply\n",
    "print(multiply_nums(1,3,2,2,2))\t\n"
   ]
  },
  {
   "cell_type": "code",
   "execution_count": 92,
   "metadata": {},
   "outputs": [
    {
     "name": "stdout",
     "output_type": "stream",
     "text": [
      "()\n",
      "1\n"
     ]
    }
   ],
   "source": [
    "def multiply_nums(*args):\n",
    "\tmultiply=1\n",
    "\tprint(args)\n",
    "\tfor i in args:\n",
    "\t\tmultiply*=i\n",
    "\treturn multiply\n",
    "print(multiply_nums())\t"
   ]
  },
  {
   "cell_type": "code",
   "execution_count": 93,
   "metadata": {},
   "outputs": [
    {
     "name": "stdout",
     "output_type": "stream",
     "text": [
      "2\n",
      "()\n",
      "1\n"
     ]
    }
   ],
   "source": [
    "def multiply_nums(n1,n2,*args):\n",
    "\tmultiply=1\n",
    "\tprint(n1+n2)\n",
    "\tprint(args)\n",
    "\tfor i in args:\n",
    "\t\tmultiply*=i\n",
    "\treturn multiply\n",
    "print(multiply_nums(1,1,))\t"
   ]
  },
  {
   "cell_type": "code",
   "execution_count": 95,
   "metadata": {},
   "outputs": [
    {
     "name": "stdout",
     "output_type": "stream",
     "text": [
      "2\n",
      "(3, 4)\n",
      "12\n"
     ]
    }
   ],
   "source": [
    "def multiply_nums(n1,n2,*args):\n",
    "\tmultiply=1\n",
    "\tprint(n1+n2)\n",
    "\tprint(args)\n",
    "\tfor i in args:\n",
    "\t\tmultiply*=i\n",
    "\treturn multiply\n",
    "print(multiply_nums(1,1,3,4))\t"
   ]
  },
  {
   "cell_type": "code",
   "execution_count": 98,
   "metadata": {},
   "outputs": [
    {
     "name": "stdout",
     "output_type": "stream",
     "text": [
      "([2, 3, 4],)\n",
      "[2, 3, 4]\n",
      "(2, 3, 4)\n",
      "24\n"
     ]
    }
   ],
   "source": [
    "def multiply_nums(*args):\n",
    "\tmultiply=1\n",
    "\tprint(args)\n",
    "\tfor i in args:\n",
    "\t\tmultiply*=i\n",
    "\treturn multiply\n",
    "nums=[2,3,4]\n",
    "print(multiply_nums(nums))\n",
    "print(multiply_nums(*nums)) #this star will unpack the list items"
   ]
  },
  {
   "cell_type": "code",
   "execution_count": 99,
   "metadata": {},
   "outputs": [
    {
     "name": "stdout",
     "output_type": "stream",
     "text": [
      "[4, 9]\n",
      "[4, 9]\n"
     ]
    }
   ],
   "source": [
    "def to_power(num,*args):\n",
    "\tif args:\n",
    "\t\treturn[i**num for i in args]\n",
    "\telse:\n",
    "\t\tprint(\"you didn't pass any args\")\n",
    "nums=[2,3]\n",
    "print(to_power(2,*nums))\n",
    "print(to_power(2,*[2,3]))\n"
   ]
  },
  {
   "cell_type": "code",
   "execution_count": 103,
   "metadata": {},
   "outputs": [
    {
     "name": "stdout",
     "output_type": "stream",
     "text": [
      "{'first_name': 'harshit', 'last_name': 'vashistha'}\n",
      "<class 'dict'>\n"
     ]
    }
   ],
   "source": [
    "def func(**kwargs):\n",
    "\tprint(kwargs)\n",
    "\tprint(type(kwargs))\n",
    "func(first_name='harshit',last_name='vashistha')"
   ]
  },
  {
   "cell_type": "code",
   "execution_count": 105,
   "metadata": {},
   "outputs": [
    {
     "name": "stdout",
     "output_type": "stream",
     "text": [
      "first_name:ashwani\n",
      "last_name:kumar\n"
     ]
    }
   ],
   "source": [
    "def fun(**kwargs):\n",
    "\tfor k,v in kwargs.items():\n",
    "\t\tprint(f\"{k}:{v}\")\n",
    "fun(first_name='ashwani',last_name='kumar')"
   ]
  },
  {
   "cell_type": "code",
   "execution_count": 106,
   "metadata": {},
   "outputs": [
    {
     "name": "stdout",
     "output_type": "stream",
     "text": [
      "name:harshit:mohit\n",
      "age:24:mohit\n"
     ]
    }
   ],
   "source": [
    "def fun(num, **kwargs):\n",
    "\tfor k,v in kwargs.items():\n",
    "\t\tprint(f\"{k}:{v}:{num}\")\n",
    "fun('mohit',first_name='ashwani',last_name='kumar')\n"
   ]
  },
  {
   "cell_type": "code",
   "execution_count": 110,
   "metadata": {},
   "outputs": [
    {
     "name": "stdout",
     "output_type": "stream",
     "text": [
      "name:harshit:mohit\n",
      "age:24:mohit\n"
     ]
    }
   ],
   "source": [
    "def fun(num, **kwargs):\n",
    "\tfor k,v in kwargs.items():\n",
    "\t\tprint(f\"{k}:{v}:{num}\")\n",
    "d={'name':'harshit','age':24}\n",
    "fun('mohit',**d)\t#unpack dictionary items"
   ]
  },
  {
   "cell_type": "code",
   "execution_count": 111,
   "metadata": {},
   "outputs": [
    {
     "name": "stdout",
     "output_type": "stream",
     "text": [
      "harshit\n",
      "25\n",
      "unknown\n",
      "24\n"
     ]
    }
   ],
   "source": [
    "def func(name='unknown',age=24):\n",
    "\tprint(name)\n",
    "\tprint(age)\n",
    "func('harshit',25)\n",
    "func()"
   ]
  },
  {
   "cell_type": "code",
   "execution_count": 112,
   "metadata": {},
   "outputs": [
    {
     "name": "stdout",
     "output_type": "stream",
     "text": [
      "harshit\n",
      "(1, 2, 3)\n",
      "unknown\n",
      "{'a': 1, 'b': 2}\n"
     ]
    }
   ],
   "source": [
    "def func(name,*args,last_name='unknown',**kwargs):\n",
    "\tprint(name)\n",
    "\tprint(args)\n",
    "\tprint(last_name)\n",
    "\tprint(kwargs)\n",
    "func('harshit',1,2,3,a=1,b=2)\n"
   ]
  },
  {
   "cell_type": "code",
   "execution_count": 114,
   "metadata": {},
   "outputs": [
    {
     "name": "stdout",
     "output_type": "stream",
     "text": [
      "['Inawhsa', 'Ramuk']\n"
     ]
    }
   ],
   "source": [
    "def func(l,**kwargs):\n",
    "\tif kwargs.get('reverse_str')==True:\n",
    "\t\treturn [name[::-1].title() for name in l]\n",
    "\telse:\n",
    "\t\treturn [name.title() for name in l]\n",
    "names=['ashwani','kumar']\n",
    "print(func(names,reverse_str=True))"
   ]
  },
  {
   "cell_type": "code",
   "execution_count": 115,
   "metadata": {},
   "outputs": [
    {
     "name": "stdout",
     "output_type": "stream",
     "text": [
      "10\n"
     ]
    }
   ],
   "source": [
    "def new_add(*args):\n",
    "\ttotal=0\n",
    "\tfor num in args:\n",
    "\t\ttotal+=num\n",
    "\treturn total\n",
    "# print(new_add(1,2,3,4,5,6,7,8,9))\n",
    "l=[1,2,3,4]\n",
    "print(new_add(*l))\t#unpack\n"
   ]
  },
  {
   "cell_type": "code",
   "execution_count": 123,
   "metadata": {},
   "outputs": [
    {
     "name": "stdout",
     "output_type": "stream",
     "text": [
      "6\n",
      "6\n",
      "2.0\n"
     ]
    }
   ],
   "source": [
    "add=lambda a,b,c:a+b+c\n",
    "print(add(1,2,3))\n",
    "multiply=lambda a,b,c:a*b*c\n",
    "print(multiply(1,2,3))\n",
    "divide=lambda a,b:a/b\n",
    "print(divide(4,2))"
   ]
  },
  {
   "cell_type": "code",
   "execution_count": 124,
   "metadata": {},
   "outputs": [
    {
     "name": "stdout",
     "output_type": "stream",
     "text": [
      "True\n"
     ]
    }
   ],
   "source": [
    "is_even=lambda a:a%2==0\n",
    "print(is_even(6))"
   ]
  },
  {
   "cell_type": "code",
   "execution_count": 125,
   "metadata": {},
   "outputs": [
    {
     "name": "stdout",
     "output_type": "stream",
     "text": [
      "inawhsa\n"
     ]
    }
   ],
   "source": [
    "last_char=lambda s:s[::-1]\n",
    "print(last_char('ashwani'))"
   ]
  },
  {
   "cell_type": "code",
   "execution_count": 129,
   "metadata": {},
   "outputs": [
    {
     "name": "stdout",
     "output_type": "stream",
     "text": [
      "True\n",
      "True\n"
     ]
    }
   ],
   "source": [
    "func=lambda s:True if len(s)>5 else False\n",
    "print(func('abcdefr'))\n",
    "func=lambda s:len(s)>5\n",
    "print(func('abcdefr'))"
   ]
  },
  {
   "cell_type": "code",
   "execution_count": 131,
   "metadata": {},
   "outputs": [
    {
     "name": "stdout",
     "output_type": "stream",
     "text": [
      "0--->ashwani\n",
      "1--->sumit\n",
      "2--->amit\n"
     ]
    }
   ],
   "source": [
    "names=['ashwani','sumit','amit']\n",
    "for pos,name in enumerate(names):\n",
    "\tprint(f\"{pos}--->{name}\")"
   ]
  },
  {
   "cell_type": "code",
   "execution_count": 135,
   "metadata": {},
   "outputs": [
    {
     "name": "stdout",
     "output_type": "stream",
     "text": [
      "enter target name:ashwani kumar\n",
      "1\n"
     ]
    }
   ],
   "source": [
    "def find_pos(l, target):\n",
    "\tfor pos,name in enumerate(l):\n",
    "\t\tif name==target:\n",
    "\t\t\treturn pos\n",
    "\treturn -1\t\t\t\n",
    "name=['ashwin','ashwani kumar','ashwani']\n",
    "print(find_pos(name,input('enter target name:')))"
   ]
  },
  {
   "cell_type": "code",
   "execution_count": 138,
   "metadata": {},
   "outputs": [
    {
     "name": "stdout",
     "output_type": "stream",
     "text": [
      "[1, 4, 9, 16]\n",
      "[1, 4, 9, 16]\n"
     ]
    }
   ],
   "source": [
    "numbers=[1,2,3,4]\n",
    "def square(a):\n",
    "\treturn a**2\n",
    "squares=list(map(square,numbers))\n",
    "print(squares)\n",
    "# or\n",
    "print(list(map(lambda a:a**2,[1,2,3,4])))"
   ]
  },
  {
   "cell_type": "code",
   "execution_count": 139,
   "metadata": {},
   "outputs": [
    {
     "name": "stdout",
     "output_type": "stream",
     "text": [
      "[1, 4, 9, 16]\n"
     ]
    }
   ],
   "source": [
    "numbers=[1,2,3,4]\n",
    "squares_new=[i**2 for i in numbers]\n",
    "print(squares_new)"
   ]
  },
  {
   "cell_type": "code",
   "execution_count": null,
   "metadata": {},
   "outputs": [],
   "source": []
  }
 ],
 "metadata": {
  "kernelspec": {
   "display_name": "Python 3",
   "language": "python",
   "name": "python3"
  },
  "language_info": {
   "codemirror_mode": {
    "name": "ipython",
    "version": 3
   },
   "file_extension": ".py",
   "mimetype": "text/x-python",
   "name": "python",
   "nbconvert_exporter": "python",
   "pygments_lexer": "ipython3",
   "version": "3.8.2"
  }
 },
 "nbformat": 4,
 "nbformat_minor": 4
}
